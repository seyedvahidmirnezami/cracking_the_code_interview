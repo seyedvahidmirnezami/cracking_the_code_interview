{
 "cells": [
  {
   "cell_type": "code",
   "execution_count": 2,
   "metadata": {},
   "outputs": [
    {
     "ename": "SyntaxError",
     "evalue": "invalid syntax (<ipython-input-2-615cdc29a5f5>, line 21)",
     "output_type": "error",
     "traceback": [
      "\u001b[0;36m  File \u001b[0;32m\"<ipython-input-2-615cdc29a5f5>\"\u001b[0;36m, line \u001b[0;32m21\u001b[0m\n\u001b[0;31m    node.leftChild = self.insertNode(data,node.leftChild); = self.insertNode(data,node.rightChild);\u001b[0m\n\u001b[0m                                                           ^\u001b[0m\n\u001b[0;31mSyntaxError\u001b[0m\u001b[0;31m:\u001b[0m invalid syntax\n"
     ]
    }
   ],
   "source": [
    "class Node(object): # length of the longest path from the leaf to it\n",
    "    def __init__init(self,data):\n",
    "        self.data = data;\n",
    "        self.height = 0;\n",
    "        self.leftChild = None;\n",
    "        self.rightChild = None;\n",
    "    \n",
    "class AVEL(object)   :\n",
    "    def __init__(self):\n",
    "        self.node= None;\n",
    "    \n",
    "    def insert(self,data):\n",
    "        self.root = self.insertNode(data,self.root);\n",
    "        \n",
    "    def insertNode(self,data,node):\n",
    "        if not node:\n",
    "            return Node(data);\n",
    "        if data<node.data:\n",
    "            node.leftChild = self.insertNode(data,node.leftChild);\n",
    "        else:\n",
    "            node.leftChild = self.insertNode(data,node.leftChild); = self.insertNode(data,node.rightChild);\n",
    "    node.height = max(self.calculateHeight(node.leftNode),self.calculateHeight(node.rightNode))+1;\n",
    "    return self.settleViolation(data,node);\n",
    "    \n",
    "    def settleViolation(self,data,node):\n",
    "        balance = self.calculateBalance(node);\n",
    "        if balance > 1 and data<node.leftChild.data:\n",
    "            print(\"left left heavy situation ....\")\n",
    "            return self.rotateRight(node);\n",
    "        if balance<-1 and data.rightChild.data:\n",
    "            print(\"right right heavy situation ...\");\n",
    "            return self.rotateLeft(node);\n",
    "        if balance>1 and data>node.leftChild.data:\n",
    "            print(\"left right heavy situation ...\");\n",
    "            node.leftChild = self.rotateLeft(node.leftChild);\n",
    "            return self.rotateRight(node);\n",
    "        \n",
    "        if balance<-1 and data>node.rightChild.data:\n",
    "            print(\"right left heavy situation ...\");\n",
    "            node.rightChild = self.rotateRight(node.rightChild);\n",
    "            return self.rotateLeft(node);\n",
    "    \n",
    "    def calculateHeight(self,node):\n",
    "        if not node:\n",
    "            return -1;\n",
    "        return node.height;\n",
    "    \n",
    "    def calculateBalance(self,node):\n",
    "        if not node:\n",
    "            return 0;\n",
    "        return self.calculateHeight(node.leftChild)-self.calculateHeight(node.rightChild)\n",
    "    \n",
    "    def rotateRight(self,node):\n",
    "        print(\"rotating to the right on node\",node.data);\n",
    "        tempLeftChild=node.leftChild;\n",
    "        t = tempLeftChild.rightChild;\n",
    "        tempLeftChild.rightChild=node;\n",
    "        node.leftChild=t;\n",
    "        node.height=max(self.calculateHeight(node.leftChild),calculateHeight(node.rightChild))+1;\n",
    "        tempLeftChild.height = max(self.calculateHeight(node.leftChild),calculateHeight(node.rightChild))+1;\n",
    "    return tempLeftChild\n",
    "\n",
    "    def rotateLeft(self,node):\n",
    "        print(\"rotating to the left on node\",node.data);\n",
    "        tempRightChild = node.rightChild; \n",
    "        t = tempRightChild.leftChild;\n",
    "        tempRightChild.leftChild=node;\n",
    "        node.rightChild=t;\n",
    "        node.height=max(self.calculateHeight(node.leftChild),calculateHeight(node.rightChild))+1;\n",
    "        tempRightChild.height = max(self.calculateHeight(node.leftChild),calculateHeight(node.rightChild))+1;\n",
    "    return tempRightChild\n",
    "\n"
   ]
  },
  {
   "cell_type": "code",
   "execution_count": null,
   "metadata": {
    "collapsed": true
   },
   "outputs": [],
   "source": [
    "av=AVL();\n",
    "av.insert"
   ]
  }
 ],
 "metadata": {
  "kernelspec": {
   "display_name": "Python 3",
   "language": "python",
   "name": "python3"
  },
  "language_info": {
   "codemirror_mode": {
    "name": "ipython",
    "version": 3
   },
   "file_extension": ".py",
   "mimetype": "text/x-python",
   "name": "python",
   "nbconvert_exporter": "python",
   "pygments_lexer": "ipython3",
   "version": "3.6.2"
  }
 },
 "nbformat": 4,
 "nbformat_minor": 2
}
