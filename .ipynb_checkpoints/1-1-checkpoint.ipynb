{
 "cells": [
  {
   "cell_type": "code",
   "execution_count": 109,
   "metadata": {},
   "outputs": [
    {
     "name": "stdout",
     "output_type": "stream",
     "text": [
      "Enter your name: mahsa\n",
      "no unique\n"
     ]
    }
   ],
   "source": [
    "def fun(name):\n",
    "    #h = list(name)               # option 1, \n",
    "    b=[];\n",
    "    for i in name:\n",
    "        if i in b:\n",
    "            return \"no unique\"\n",
    "        b.append(i);\n",
    "    return('unique');\n",
    "\n",
    "       \n",
    "if __name__ == '__main__':\n",
    "    var = input('Enter your name: ')\n",
    "    #ar = 'vahid mahsa';\n",
    "    r=fun(var);\n",
    "    print(r)\n"
   ]
  },
  {
   "cell_type": "code",
   "execution_count": 115,
   "metadata": {},
   "outputs": [
    {
     "name": "stdout",
     "output_type": "stream",
     "text": [
      "Enter your name: vahid\n",
      "unique\n"
     ]
    }
   ],
   "source": [
    "def fun(name):\n",
    "    for ind,i in enumerate(name):\n",
    "        for j in name[ind+1:]:\n",
    "            if (i==j):\n",
    "                return \"no unique\"\n",
    "    return('unique');\n",
    "\n",
    "       \n",
    "if __name__ == '__main__':\n",
    "    var = input('Enter your name: ')\n",
    "    r=fun(var);\n",
    "    print(r)\n"
   ]
  },
  {
   "cell_type": "code",
   "execution_count": 99,
   "metadata": {},
   "outputs": [
    {
     "name": "stdout",
     "output_type": "stream",
     "text": [
      "enter a name:vahid\n",
      "dihav\n"
     ]
    }
   ],
   "source": [
    "def reverse(var):\n",
    "    c = \"\";\n",
    "    for i in range(0,len(var)):\n",
    "        c = c + var[len(var)-1-i];\n",
    "    return c;\n",
    "\n",
    "if __name__ == '__main__':\n",
    "    var = input('enter a name:');\n",
    "    ans = reverse(var);\n",
    "    print(ans)\n"
   ]
  },
  {
   "cell_type": "code",
   "execution_count": 147,
   "metadata": {},
   "outputs": [
    {
     "name": "stdout",
     "output_type": "stream",
     "text": [
      "enter a name:vaaahid\n",
      "vahid\n"
     ]
    }
   ],
   "source": [
    "\n",
    "def removeDuplicate(var):\n",
    "    result = \"\";\n",
    "    for ind,i in enumerate(var):\n",
    "        if i not in result:\n",
    "            result = result + i;\n",
    "    return result;\n",
    "\n",
    "if __name__ == '__main__':\n",
    "    var = input('enter a name:');\n",
    "    ans = removeDuplicate(var);\n",
    "    print(ans)\n",
    "            \n",
    "            "
   ]
  },
  {
   "cell_type": "code",
   "execution_count": 45,
   "metadata": {},
   "outputs": [
    {
     "name": "stdout",
     "output_type": "stream",
     "text": [
      "not\n"
     ]
    }
   ],
   "source": [
    "def fun(var1,var2):\n",
    "    if len(var)!=len(var2):\n",
    "        return \"not\";\n",
    "    v1=list(var1);\n",
    "    v2=list(var2);\n",
    "    a = v1.sorted();\n",
    "    print(v1)\n",
    "    print(b)\n",
    "    b = v2.sort();\n",
    "    if (a==b):\n",
    "        return \"yes\"\n",
    "        \n",
    "if __name__ == '__main__':\n",
    "    \n",
    "    ans = fun('listen','silent');\n",
    "    print(ans)"
   ]
  },
  {
   "cell_type": "code",
   "execution_count": 152,
   "metadata": {},
   "outputs": [
    {
     "name": "stdout",
     "output_type": "stream",
     "text": [
      "i\n",
      "l\n",
      "o\n",
      "m\n",
      "e\n",
      "t\n",
      "e\n",
      "r\n"
     ]
    }
   ],
   "source": [
    "s = \"Kilometer\"\n",
    "for c in s:\n",
    "    if c.islower():\n",
    "         print (c)"
   ]
  },
  {
   "cell_type": "code",
   "execution_count": 37,
   "metadata": {},
   "outputs": [
    {
     "name": "stdout",
     "output_type": "stream",
     "text": [
      "aa%20l%20%20%20%208\n"
     ]
    }
   ],
   "source": [
    "def fun(var):\n",
    "    l=list(var);\n",
    "    b='';\n",
    "    for i in l:\n",
    "        if i==\" \":\n",
    "            b = b + \"%20\";\n",
    "        else:\n",
    "            b = b+ i;\n",
    "    return b;\n",
    "\n",
    "def fun2(var):\n",
    "    l=list(var);\n",
    "    for ind,i in enumerate(l):\n",
    "        if i==\" \":\n",
    "            l[ind]=\"%20\";\n",
    "    return ''.join(l);\n",
    "\n",
    "def fun3(var):\n",
    "    return var.replace(' ','%20');\n",
    "    \n",
    "print(fun3('aa l    8'))\n",
    "            \n",
    "            "
   ]
  },
  {
   "cell_type": "code",
   "execution_count": 158,
   "metadata": {
    "collapsed": true
   },
   "outputs": [],
   "source": [
    "def rotate(var):\n",
    "    for i in len(var):\n",
    "        for j in len(var[i]):\n",
    "            temp=var[i][j];\n",
    "            var[]"
   ]
  },
  {
   "cell_type": "code",
   "execution_count": 175,
   "metadata": {},
   "outputs": [
    {
     "name": "stdout",
     "output_type": "stream",
     "text": [
      "[['a', 'b', 'c'], [1, 2, 3], ['x', 'y', 'z']]\n",
      "[['x', 1, 'a'], ['y', 2, 'b'], ['z', 3, 'c']]\n"
     ]
    }
   ],
   "source": [
    "def rotate(matrix):\n",
    "    if matrix is None or len(matrix)<1:\n",
    "        return\n",
    "    else:\n",
    "        if len(matrix)==1:\n",
    "            return matrix\n",
    "        else:\n",
    "            #solution matrix\n",
    "            soln = [row[:] for row in matrix]\n",
    "            #size of matrix\n",
    "            m = len(matrix[0])\n",
    "                    \n",
    "            for x in range(0,m):\n",
    "                for j in range(0,m):\n",
    "                    soln[j][m-1-x] = matrix[x][j]\n",
    "            return soln\n",
    "\n",
    "if __name__==\"__main__\":\n",
    "    six = [[\"a\",\"b\",\"c\"],\n",
    "          [1,2,3],\n",
    "          [\"x\",\"y\",\"z\"]]\n",
    "    print(six)\n",
    "    print (\"%s\" % rotate(six))"
   ]
  },
  {
   "cell_type": "code",
   "execution_count": 25,
   "metadata": {},
   "outputs": [
    {
     "name": "stdout",
     "output_type": "stream",
     "text": [
      "[1]\n",
      "[2]\n",
      "[['a', 'b', 0], [0, 0, 0], ['x', 'y', 0]]\n"
     ]
    }
   ],
   "source": [
    "def findZero(var):\n",
    "    checkRow = [];\n",
    "    checkCol = [];\n",
    "    row = len(var);\n",
    "    col = len(var[0]);\n",
    "    for i in range(row):\n",
    "        for j in range(col):\n",
    "            if var[i][j] == 0:\n",
    "                checkRow.append(i);\n",
    "                checkCol.append(j);\n",
    "    print(checkRow)\n",
    "    print(checkCol)\n",
    "    for i in checkRow:\n",
    "        for j in range(col):\n",
    "            var[i][j] = 0\n",
    "    for i in checkCol:\n",
    "        for j in range(row):\n",
    "            var[j][i] = 0\n",
    "                \n",
    "    return var;\n",
    "            \n",
    "if __name__ == '__main__':\n",
    "    six = [[\"a\",\"b\",\"c\"],\n",
    "          [1,2,0],\n",
    "          [\"x\",\"y\",\"z\"]]\n",
    "    var=six;\n",
    "    s=findZero(var);\n",
    "    print(s)\n",
    "                    "
   ]
  },
  {
   "cell_type": "code",
   "execution_count": 36,
   "metadata": {},
   "outputs": [
    {
     "name": "stdout",
     "output_type": "stream",
     "text": [
      "[False, False, False]\n",
      "0\n",
      "0\n",
      "1\n",
      "2\n",
      "1\n",
      "0\n",
      "1\n",
      "2\n",
      "2\n",
      "0\n",
      "1\n",
      "2\n",
      "[['a', 'b', 0], [0, 0, 0], ['x', 'y', 0]]\n"
     ]
    }
   ],
   "source": [
    "def set_zeros(matrix):\n",
    "    row_has_zero = len(matrix) * [False]\n",
    "    column_has_zero = len(matrix[0]) * [False]\n",
    "    print(row_has_zero)\n",
    "    for row in range(len(matrix)):\n",
    "        for column, value in enumerate(matrix[row]):\n",
    "            if value == 0:\n",
    "                column_has_zero[column] = True\n",
    "                row_has_zero[row] = True\n",
    "\n",
    "    for row in range(len(matrix)):\n",
    "        print(row)\n",
    "        for column in range(len(matrix[row])):\n",
    "            print(column)\n",
    "            if row_has_zero[row] or column_has_zero[column]:\n",
    "                \n",
    "            \n",
    "                matrix[row][column] = 0\n",
    "    return matrix\n",
    "if __name__ == '__main__':\n",
    "    six = [[\"a\",\"b\",\"c\"],\n",
    "          [1,2,0],\n",
    "          [\"x\",\"y\",\"z\"]]\n",
    "    var=six;\n",
    "    s=set_zeros(var);\n",
    "    print(s)"
   ]
  },
  {
   "cell_type": "code",
   "execution_count": 3,
   "metadata": {},
   "outputs": [
    {
     "name": "stdout",
     "output_type": "stream",
     "text": [
      "[['a', 'b', 'c'], [1, 2, 0], ['x', 'y', 'z']]\n",
      "c\n",
      "b\n",
      "[['x', 1, 'a'], ['y', 2, 'b'], ['z', 0, 'c']]\n"
     ]
    }
   ],
   "source": [
    "def rotate(matrix):\n",
    "    '''\n",
    "    Given an image represented by an NxN matrix, where each pixel in the image is 4\n",
    "    bytes, write a method to rotate the image by 90 degrees. Can you do this in place?\n",
    "    '''\n",
    "    # go in layers and do a 4-way swap on pixels\n",
    "    if not matrix:\n",
    "        return matrix\n",
    "    n = len(matrix[0])\n",
    "    for layer in range(n/2):\n",
    "        first = layer\n",
    "        last = n - 1 - layer\n",
    "        for i in range(first, last):\n",
    "            offset = i - layer\n",
    "            # top = matrix[layer][i]\n",
    "            # left = matrix[last-offset][layer]\n",
    "            # right = matrix[i][last]\n",
    "            # bottom = matrix[last][last-offset]\n",
    "            # temp = top\n",
    "            temp = matrix[layer][i]\n",
    "            # top = left\n",
    "            matrix[layer][i] = matrix[last-offset][layer]\n",
    "            # left = bottom\n",
    "            matrix[last-offset][layer] = matrix[last][last-offset]\n",
    "            # bottom = right\n",
    "            matrix[last][last-offset] = matrix[i][last]\n",
    "            # right = temp\n",
    "            matrix[i][last] = temp\n",
    "    return matrix\n",
    "            \n",
    "if __name__ == '__main__':\n",
    "    six = [[\"a\",\"b\",\"c\"],\n",
    "          [1,2,0],\n",
    "          [\"x\",\"y\",\"z\"]]\n",
    "    print(six)\n",
    "    var=six;\n",
    "    s=rotate(var);\n",
    "    print(s)"
   ]
  },
  {
   "cell_type": "code",
   "execution_count": 15,
   "metadata": {},
   "outputs": [
    {
     "name": "stdout",
     "output_type": "stream",
     "text": [
      "['a', 'b', 'c']\n",
      "[1, 2, 3]\n",
      "['x', 'y', 'z']\n"
     ]
    }
   ],
   "source": [
    "def rotate2(matrix)\n",
    "    n = len(matrix[0])\n",
    "    for layer in range(n/2):\n",
    "        first = layer\n",
    "        last = n - 1 - layer\n",
    "        for i in range(first, last):\n",
    "            offset = i - layer\n",
    "            # top = matrix[layer][i]\n",
    "            # left = matrix[last-offset][layer]\n",
    "            # right = matrix[i][last]\n",
    "            # bottom = matrix[last][last-offset]\n",
    "            # temp = top\n",
    "            temp = matrix[layer][i]\n",
    "            # top = left\n",
    "            matrix[layer][i] = matrix[last-offset][layer]\n",
    "            # left = bottom\n",
    "            matrix[last-offset][layer] = matrix[last][last-offset]\n",
    "            # bottom = right\n",
    "            matrix[last][last-offset] = matrix[i][last]\n",
    "            # right = temp\n",
    "            matrix[i][last] = temp\n",
    "    return matrix"
   ]
  },
  {
   "cell_type": "code",
   "execution_count": 56,
   "metadata": {
    "collapsed": true
   },
   "outputs": [],
   "source": [
    "def fun(var1,var2):\n",
    "    return var1 in var2\n",
    "\n",
    "    "
   ]
  },
  {
   "cell_type": "code",
   "execution_count": 60,
   "metadata": {},
   "outputs": [
    {
     "name": "stdout",
     "output_type": "stream",
     "text": [
      "True\n"
     ]
    }
   ],
   "source": [
    "a='vahid'\n",
    "b='mahvahidsa'\n",
    "s=fun(a,b+b)\n",
    "print(s)"
   ]
  },
  {
   "cell_type": "code",
   "execution_count": 35,
   "metadata": {},
   "outputs": [
    {
     "name": "stdout",
     "output_type": "stream",
     "text": [
      "[['a', 'b', 'c', 6], [1, 2, 0, 7], ['x', 'y', 'z', 8], [1, 2, 3, 9]]\n",
      "[[1, 'x', 1, 'a'], [2, 'y', 2, 'b'], [3, 'z', 0, 'c'], [9, 8, 7, 6]]\n"
     ]
    }
   ],
   "source": [
    "# clock-wise\n",
    "def myRotation(arr):\n",
    "    if not arr:\n",
    "        return \"sorry!\";\n",
    "    n = len(arr);\n",
    "    for row in range(0,n//2):\n",
    "        for col in range(row,n - row - 1):\n",
    "            offset = col - row;\n",
    "            temp = arr[row][col];\n",
    "            arr[row][col] = arr[n-col-1][row];\n",
    "            arr[n-col-1][row] = arr[n-row-1][n-col-1];\n",
    "            arr[n-row-1][n-col-1] = arr[col][n-row-1];\n",
    "            arr[col][n-row-1] = temp;\n",
    "    return arr;\n",
    "\n",
    "if __name__ == '__main__':\n",
    "    six = [[\"a\",\"b\",\"c\",6],\n",
    "          [1,2,0,7],\n",
    "          [\"x\",\"y\",\"z\",8],\n",
    "           [1,2,3,9]]\n",
    "    print(six)\n",
    "    var=six;\n",
    "    s=myRotation(var);\n",
    "    print(s)"
   ]
  },
  {
   "cell_type": "code",
   "execution_count": 32,
   "metadata": {},
   "outputs": [
    {
     "name": "stdout",
     "output_type": "stream",
     "text": [
      "[['a', 'b', 'c'], [1, 2, 0], ['x', 'y', 'z']]\n",
      "[['c', 0, 'z'], ['b', 2, 'y'], ['a', 1, 'x']]\n"
     ]
    }
   ],
   "source": [
    "# anticlock-wise\n",
    "def antiTotation(arr):\n",
    "    if not arr:\n",
    "        return arr;\n",
    "    n = len(arr);\n",
    "    for row in range(n//2):\n",
    "        for col in range(row,n-row-1):\n",
    "            temp = arr[row][col];\n",
    "            arr[row][col] = arr[col][n-row-1];\n",
    "            arr[col][n-row-1] = arr[n-row-1][n-col-1]\n",
    "            arr[n-row-1][n-col-1] = arr[n-col-1][row];\n",
    "            arr[n-col-1][row] = temp;\n",
    "    return arr;\n",
    "    \n",
    "if __name__ == '__main__':\n",
    "    six = [[\"a\",\"b\",\"c\"],\n",
    "          [1,2,0],\n",
    "          [\"x\",\"y\",\"z\"]]\n",
    "    print(six)\n",
    "    var=six;\n",
    "    s=antiTotation(var);\n",
    "    print(s)"
   ]
  },
  {
   "cell_type": "code",
   "execution_count": null,
   "metadata": {},
   "outputs": [],
   "source": []
  },
  {
   "cell_type": "code",
   "execution_count": null,
   "metadata": {
    "collapsed": true
   },
   "outputs": [],
   "source": []
  }
 ],
 "metadata": {
  "kernelspec": {
   "display_name": "Python 3",
   "language": "python",
   "name": "python3"
  },
  "language_info": {
   "codemirror_mode": {
    "name": "ipython",
    "version": 3
   },
   "file_extension": ".py",
   "mimetype": "text/x-python",
   "name": "python",
   "nbconvert_exporter": "python",
   "pygments_lexer": "ipython3",
   "version": "3.6.2"
  }
 },
 "nbformat": 4,
 "nbformat_minor": 2
}
