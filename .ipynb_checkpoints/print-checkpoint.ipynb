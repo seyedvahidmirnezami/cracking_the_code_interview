{
 "cells": [
  {
   "cell_type": "code",
   "execution_count": 1,
   "metadata": {
    "collapsed": true
   },
   "outputs": [],
   "source": [
    "def unique(name):\n",
    "    for ind,i in enumerate(name):\n",
    "        if i in name[ind+1:]:\n",
    "            return \"no unique\"\n",
    "    return('unique');"
   ]
  },
  {
   "cell_type": "code",
   "execution_count": 2,
   "metadata": {
    "collapsed": true
   },
   "outputs": [],
   "source": [
    "def reverse(var):\n",
    "    c = \"\";\n",
    "    for i in range(0,len(var)):\n",
    "        c = c + var[len(var)-1-i];\n",
    "    return c;"
   ]
  },
  {
   "cell_type": "code",
   "execution_count": 3,
   "metadata": {
    "collapsed": true
   },
   "outputs": [],
   "source": [
    "def removeDuplicate(var):\n",
    "    result = \"\";\n",
    "    for i in var:\n",
    "        if i not in result:\n",
    "            result = result + i;\n",
    "    return result;"
   ]
  },
  {
   "cell_type": "code",
   "execution_count": 4,
   "metadata": {
    "collapsed": true
   },
   "outputs": [],
   "source": [
    "def anagromus(var1,var2):\n",
    "    if len(var1)!=len(var2):\n",
    "        return \"no\"\n",
    "\n",
    "    if (sorted(var1)==sorted(var2)):\n",
    "        return \"yes\"\n",
    "    return \"no\""
   ]
  },
  {
   "cell_type": "code",
   "execution_count": 5,
   "metadata": {
    "collapsed": true
   },
   "outputs": [],
   "source": [
    "def fun3(var):\n",
    "    return var.replace(' ','%20');\n",
    "def fun(var):\n",
    "    l=list(var);\n",
    "    b='';\n",
    "    for i in l:\n",
    "        if i==\" \":\n",
    "            b = b + \"%20\";\n",
    "        else:\n",
    "            b = b+ i;\n",
    "    return b;\n",
    "\n",
    "def fun2(var):\n",
    "    l=list(var);\n",
    "    for ind,i in enumerate(l):\n",
    "        if i==\" \":\n",
    "            l[ind]=\"%20\";\n",
    "    return ''.join(l);"
   ]
  },
  {
   "cell_type": "code",
   "execution_count": 6,
   "metadata": {
    "collapsed": true
   },
   "outputs": [],
   "source": [
    "def findZero(var):\n",
    "    checkRow = [];\n",
    "    checkCol = [];\n",
    "    row = len(var);\n",
    "    col = len(var[0]);\n",
    "    for i in range(row):\n",
    "        for j in range(col):\n",
    "            if var[i][j] == 0:\n",
    "                checkRow.append(i);\n",
    "                checkCol.append(j);\n",
    "    print(checkRow)\n",
    "    print(checkCol)\n",
    "    for i in checkRow:\n",
    "        for j in range(col):\n",
    "            var[i][j] = 0\n",
    "    for i in checkCol:\n",
    "        for j in range(row):\n",
    "            var[j][i] = 0\n",
    "                \n",
    "    return var;"
   ]
  },
  {
   "cell_type": "code",
   "execution_count": 7,
   "metadata": {},
   "outputs": [
    {
     "name": "stdout",
     "output_type": "stream",
     "text": [
      "[['a', 'b', 'c', 6], [1, 2, 0, 7], ['x', 'y', 'z', 8], [1, 2, 3, 9]]\n",
      "[[1, 'x', 1, 'a'], [2, 'y', 2, 'b'], [3, 'z', 0, 'c'], [9, 8, 7, 6]]\n"
     ]
    }
   ],
   "source": [
    "# clock-wise\n",
    "def myRotation(arr):\n",
    "    if not arr:\n",
    "        return \"sorry!\";\n",
    "    n = len(arr);\n",
    "    for row in range(0,n//2):\n",
    "        for col in range(row,n - row - 1):\n",
    "            offset = col - row;\n",
    "            temp = arr[row][col];\n",
    "            arr[row][col] = arr[n-col-1][row];\n",
    "            arr[n-col-1][row] = arr[n-row-1][n-col-1];\n",
    "            arr[n-row-1][n-col-1] = arr[col][n-row-1];\n",
    "            arr[col][n-row-1] = temp;\n",
    "    return arr;\n",
    "\n",
    "if __name__ == '__main__':\n",
    "    six = [[\"a\",\"b\",\"c\",6],\n",
    "          [1,2,0,7],\n",
    "          [\"x\",\"y\",\"z\",8],\n",
    "           [1,2,3,9]]\n",
    "    print(six)\n",
    "    var=six;\n",
    "    s=myRotation(var);\n",
    "    print(s)"
   ]
  },
  {
   "cell_type": "code",
   "execution_count": 8,
   "metadata": {},
   "outputs": [
    {
     "name": "stdout",
     "output_type": "stream",
     "text": [
      "[['a', 'b', 'c'], [1, 2, 0], ['x', 'y', 'z']]\n",
      "[['c', 0, 'z'], ['b', 2, 'y'], ['a', 1, 'x']]\n"
     ]
    }
   ],
   "source": [
    "# anticlock-wise\n",
    "def antiTotation(arr):\n",
    "    if not arr:\n",
    "        return arr;\n",
    "    n = len(arr);\n",
    "    for row in range(n//2):\n",
    "        for col in range(row,n-row-1):\n",
    "            temp = arr[row][col];\n",
    "            arr[row][col] = arr[col][n-row-1];\n",
    "            arr[col][n-row-1] = arr[n-row-1][n-col-1]\n",
    "            arr[n-row-1][n-col-1] = arr[n-col-1][row];\n",
    "            arr[n-col-1][row] = temp;\n",
    "    return arr;\n",
    "    \n",
    "if __name__ == '__main__':\n",
    "    six = [[\"a\",\"b\",\"c\"],\n",
    "          [1,2,0],\n",
    "          [\"x\",\"y\",\"z\"]]\n",
    "    print(six)\n",
    "    var=six;\n",
    "    s=antiTotation(var);\n",
    "    print(s)"
   ]
  },
  {
   "cell_type": "code",
   "execution_count": null,
   "metadata": {
    "collapsed": true
   },
   "outputs": [],
   "source": [
    "def contiguous(arr):\n",
    "    maxTotal=0;\n",
    "    maxTemp=0;\n",
    "    indexStart = 0;\n",
    "    indexEnd = 0;\n",
    "    for i in range(len(arr)):\n",
    "        maxTemp = maxTemp + arr[i];\n",
    "        if maxTemp > maxTotal:\n",
    "            #indexStart = i;\n",
    "            indexEnd = i;\n",
    "            maxTotal = maxTemp;\n",
    "        elif (maxTemp<0):\n",
    "            maxTemp = 0;\n",
    "            indexStart=i+1;\n",
    "    print(maxTotal)\n",
    "    print(indexStart)\n",
    "    print(indexEnd)\n",
    "\n",
    "a=[-2, -3, 4, -1, -2, 1, 5, -3]\n",
    "contiguous(a)"
   ]
  }
 ],
 "metadata": {
  "kernelspec": {
   "display_name": "Python 3",
   "language": "python",
   "name": "python3"
  },
  "language_info": {
   "codemirror_mode": {
    "name": "ipython",
    "version": 3
   },
   "file_extension": ".py",
   "mimetype": "text/x-python",
   "name": "python",
   "nbconvert_exporter": "python",
   "pygments_lexer": "ipython3",
   "version": "3.6.2"
  }
 },
 "nbformat": 4,
 "nbformat_minor": 2
}
