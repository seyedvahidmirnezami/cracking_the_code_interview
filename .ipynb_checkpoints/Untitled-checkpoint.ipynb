{
 "cells": [
  {
   "cell_type": "code",
   "execution_count": 2,
   "metadata": {},
   "outputs": [],
   "source": [
    "class Node(object):\n",
    "    def __init__ (self,data):\n",
    "        self.data = data;\n",
    "        self.leftChild= None;\n",
    "        self.rightChild=None;\n",
    "    \n",
    "class binarySearchTree(object):\n",
    "    def __init__(self):\n",
    "        self.root= None;\n",
    "    def insert(self,data):\n",
    "        if not self.root:\n",
    "            self.root=data;\n",
    "        else:\n",
    "            self.insertNode(data,self.root);\n",
    "    def insertNode(self,data,node):\n",
    "        if data<Node.data:\n",
    "            if node.leftChild:\n",
    "                self.insertNode(data,node.leftChild)\n",
    "            else:\n",
    "                node.leftChile=Node(data);\n",
    "        else:\n",
    "            if node.rightChild:\n",
    "                self.insertNode(data,node.rightChild)\n",
    "            else:\n",
    "                node.rightChild=Node(data);\n",
    "            \n",
    "            \n",
    "            \n",
    "            \n",
    "            \n",
    "            \n",
    "                \n",
    "    \n"
   ]
  },
  {
   "cell_type": "code",
   "execution_count": null,
   "metadata": {
    "collapsed": true
   },
   "outputs": [],
   "source": []
  }
 ],
 "metadata": {
  "kernelspec": {
   "display_name": "Python 3",
   "language": "python",
   "name": "python3"
  },
  "language_info": {
   "codemirror_mode": {
    "name": "ipython",
    "version": 3
   },
   "file_extension": ".py",
   "mimetype": "text/x-python",
   "name": "python",
   "nbconvert_exporter": "python",
   "pygments_lexer": "ipython3",
   "version": "3.6.2"
  }
 },
 "nbformat": 4,
 "nbformat_minor": 2
}
