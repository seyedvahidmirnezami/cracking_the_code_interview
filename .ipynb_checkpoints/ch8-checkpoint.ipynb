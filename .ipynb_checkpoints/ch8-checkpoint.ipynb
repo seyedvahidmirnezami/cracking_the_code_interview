{
 "cells": [
  {
   "cell_type": "code",
   "execution_count": 25,
   "metadata": {},
   "outputs": [
    {
     "name": "stdout",
     "output_type": "stream",
     "text": [
      "enter:1\n",
      "1\n"
     ]
    }
   ],
   "source": [
    "def fun(n):\n",
    "    if n == 0: return 0\n",
    "    elif n == 1: return 1\n",
    "    else: return fun(n-1)+fun(n-2)\n",
    "    \n",
    "if __name__ == '__main__':\n",
    "    b = int(input('enter:'));\n",
    "    s=fun(b)\n",
    "    print(s)"
   ]
  },
  {
   "cell_type": "code",
   "execution_count": 1,
   "metadata": {},
   "outputs": [
    {
     "name": "stdout",
     "output_type": "stream",
     "text": [
      "[[], [[[1]]], [[[2]], [[[[1]], 2]]], [[[3]], [[[[1]], 3]], [[[[2]], [[[[1]], 2]], 3]]]]\n"
     ]
    }
   ],
   "source": [
    "def fun(var):\n",
    "    result = [[]];\n",
    "    for i in var:\n",
    "        new=[]\n",
    "        for j in result:\n",
    "            \n",
    "            new.extend([j + [i]]);\n",
    "        \n",
    "        result.extend(new);\n",
    "    return result\n",
    "        \n",
    "\n",
    "    #return result;\n",
    "#def fun2(orig,newset):\n",
    "    \n",
    "b=[1,2,3];\n",
    "s=fun(b);\n",
    "print(s)"
   ]
  },
  {
   "cell_type": "code",
   "execution_count": 38,
   "metadata": {},
   "outputs": [
    {
     "name": "stdout",
     "output_type": "stream",
     "text": [
      "2.5\n"
     ]
    }
   ],
   "source": [
    "print(5/2)"
   ]
  },
  {
   "cell_type": "code",
   "execution_count": 61,
   "metadata": {},
   "outputs": [
    {
     "name": "stdout",
     "output_type": "stream",
     "text": [
      "[[]]\n",
      "[[], [3]]\n",
      "[[], [3], [2], [2, 3]]\n",
      "[[], [3], [2], [2, 3], [1], [1, 3], [1, 2], [1, 2, 3]]\n"
     ]
    }
   ],
   "source": [
    "def subs(l):\n",
    "    if l == []:\n",
    "        return [[]]\n",
    "    x = subs(l[1:])\n",
    "    print(x)\n",
    "    return x + [[l[0]] + y for y in x]\n",
    "\n",
    "l=[1,2,3]\n",
    "print(subs(l))"
   ]
  },
  {
   "cell_type": "code",
   "execution_count": 65,
   "metadata": {},
   "outputs": [
    {
     "name": "stdout",
     "output_type": "stream",
     "text": [
      "[[1], [2], [3]]\n"
     ]
    }
   ],
   "source": [
    "def k_subsets(k, set_):\n",
    "    if k == 0:\n",
    "        return [[]]\n",
    "    else:\n",
    "        subsets = []\n",
    "        for ind in range(len(set_) - k + 1):\n",
    "            for subset in k_subsets(k - 1, set_[ind + 1:]):\n",
    "                subsets.append(subset + [set_[ind]])\n",
    "        return subsets\n",
    "l=[1,2,3]\n",
    "print(k_subsets(1,l))"
   ]
  },
  {
   "cell_type": "code",
   "execution_count": 18,
   "metadata": {},
   "outputs": [
    {
     "name": "stdout",
     "output_type": "stream",
     "text": [
      "[[1, 2, 3], [1, 2, 4], [1, 3, 4], [2, 3, 4], [1, 2, 5], [1, 3, 5], [2, 3, 5], [1, 4, 5], [2, 4, 5], [3, 4, 5]]\n"
     ]
    }
   ],
   "source": [
    "def power_set_2(set_,N):\n",
    "    subsets = [[]]\n",
    "    subsetsK=[];\n",
    "    for element in set_:\n",
    "        for ind in range(len(subsets)):\n",
    "            subsets.append(subsets[ind] + [element])\n",
    "            if len(subsets[ind] + [element])==N:\n",
    "                subsetsK.append(subsets[ind] + [element])\n",
    "    \n",
    "    return subsetsK\n",
    "l=[1,2,3,4,5]\n",
    "s=power_set_2(l,3)\n",
    "print(s)"
   ]
  },
  {
   "cell_type": "code",
   "execution_count": 80,
   "metadata": {},
   "outputs": [
    {
     "ename": "TypeError",
     "evalue": "unsupported operand type(s) for +: 'generator' and 'generator'",
     "output_type": "error",
     "traceback": [
      "\u001b[0;31m---------------------------------------------------------------------------\u001b[0m",
      "\u001b[0;31mTypeError\u001b[0m                                 Traceback (most recent call last)",
      "\u001b[0;32m<ipython-input-80-d3636f6c36b8>\u001b[0m in \u001b[0;36m<module>\u001b[0;34m()\u001b[0m\n\u001b[1;32m      4\u001b[0m     \u001b[0;32myield\u001b[0m \u001b[0mfun\u001b[0m\u001b[0;34m(\u001b[0m\u001b[0mi\u001b[0m\u001b[0;34m-\u001b[0m\u001b[0;36m1\u001b[0m\u001b[0;34m,\u001b[0m\u001b[0mj\u001b[0m\u001b[0;34m)\u001b[0m\u001b[0;34m+\u001b[0m\u001b[0mfun\u001b[0m\u001b[0;34m(\u001b[0m\u001b[0mi\u001b[0m\u001b[0;34m,\u001b[0m\u001b[0mj\u001b[0m\u001b[0;34m-\u001b[0m\u001b[0;36m1\u001b[0m\u001b[0;34m)\u001b[0m\u001b[0;34m;\u001b[0m\u001b[0;34m\u001b[0m\u001b[0m\n\u001b[1;32m      5\u001b[0m \u001b[0ms\u001b[0m\u001b[0;34m=\u001b[0m\u001b[0mfun\u001b[0m\u001b[0;34m(\u001b[0m\u001b[0;36m6\u001b[0m\u001b[0;34m,\u001b[0m\u001b[0;36m6\u001b[0m\u001b[0;34m)\u001b[0m\u001b[0;34m\u001b[0m\u001b[0m\n\u001b[0;32m----> 6\u001b[0;31m \u001b[0;32mfor\u001b[0m \u001b[0mi\u001b[0m \u001b[0;32min\u001b[0m \u001b[0ms\u001b[0m\u001b[0;34m:\u001b[0m\u001b[0;34m\u001b[0m\u001b[0m\n\u001b[0m\u001b[1;32m      7\u001b[0m     \u001b[0mprint\u001b[0m\u001b[0;34m(\u001b[0m\u001b[0mi\u001b[0m\u001b[0;34m)\u001b[0m\u001b[0;34m\u001b[0m\u001b[0m\n",
      "\u001b[0;32m<ipython-input-80-d3636f6c36b8>\u001b[0m in \u001b[0;36mfun\u001b[0;34m(i, j)\u001b[0m\n\u001b[1;32m      2\u001b[0m     \u001b[0;32mif\u001b[0m \u001b[0mi\u001b[0m\u001b[0;34m==\u001b[0m\u001b[0;36m1\u001b[0m \u001b[0;32mor\u001b[0m \u001b[0mj\u001b[0m\u001b[0;34m==\u001b[0m\u001b[0;36m1\u001b[0m\u001b[0;34m:\u001b[0m\u001b[0;34m\u001b[0m\u001b[0m\n\u001b[1;32m      3\u001b[0m         \u001b[0;32myield\u001b[0m \u001b[0;36m1\u001b[0m\u001b[0;34m;\u001b[0m\u001b[0;34m\u001b[0m\u001b[0m\n\u001b[0;32m----> 4\u001b[0;31m     \u001b[0;32myield\u001b[0m \u001b[0mfun\u001b[0m\u001b[0;34m(\u001b[0m\u001b[0mi\u001b[0m\u001b[0;34m-\u001b[0m\u001b[0;36m1\u001b[0m\u001b[0;34m,\u001b[0m\u001b[0mj\u001b[0m\u001b[0;34m)\u001b[0m\u001b[0;34m+\u001b[0m\u001b[0mfun\u001b[0m\u001b[0;34m(\u001b[0m\u001b[0mi\u001b[0m\u001b[0;34m,\u001b[0m\u001b[0mj\u001b[0m\u001b[0;34m-\u001b[0m\u001b[0;36m1\u001b[0m\u001b[0;34m)\u001b[0m\u001b[0;34m;\u001b[0m\u001b[0;34m\u001b[0m\u001b[0m\n\u001b[0m\u001b[1;32m      5\u001b[0m \u001b[0ms\u001b[0m\u001b[0;34m=\u001b[0m\u001b[0mfun\u001b[0m\u001b[0;34m(\u001b[0m\u001b[0;36m6\u001b[0m\u001b[0;34m,\u001b[0m\u001b[0;36m6\u001b[0m\u001b[0;34m)\u001b[0m\u001b[0;34m\u001b[0m\u001b[0m\n\u001b[1;32m      6\u001b[0m \u001b[0;32mfor\u001b[0m \u001b[0mi\u001b[0m \u001b[0;32min\u001b[0m \u001b[0ms\u001b[0m\u001b[0;34m:\u001b[0m\u001b[0;34m\u001b[0m\u001b[0m\n",
      "\u001b[0;31mTypeError\u001b[0m: unsupported operand type(s) for +: 'generator' and 'generator'"
     ]
    }
   ],
   "source": [
    "def fun (i,j):\n",
    "    if i==1 or j==1:\n",
    "        yield 1;\n",
    "    yield fun(i-1,j)+fun(i,j-1);\n",
    "s=fun(6,6)\n",
    "for i in s:\n",
    "    print(i)"
   ]
  },
  {
   "cell_type": "code",
   "execution_count": 134,
   "metadata": {
    "scrolled": true
   },
   "outputs": [
    {
     "name": "stdout",
     "output_type": "stream",
     "text": [
      "['abc', 'acb', 'bac', 'bca', 'cab', 'cba']\n"
     ]
    }
   ],
   "source": [
    "def perm(var):\n",
    "    if (len(var)==1):\n",
    "        return [var];\n",
    "    p=[]\n",
    "    for i in range(0,len(var)):\n",
    "        if i==len(var)-1:\n",
    "            temp=var[:i];       \n",
    "        else:\n",
    "            temp=var[:i]+var[i+1:]\n",
    "        x=perm(temp)\n",
    "        temp2=var[i]\n",
    "\n",
    "        for j in x:\n",
    "            p.append(temp2+j);\n",
    "            \n",
    "    return p;\n",
    "l='abc';\n",
    "b=print(perm((l)))\n",
    "        \n",
    "        "
   ]
  },
  {
   "cell_type": "code",
   "execution_count": 100,
   "metadata": {},
   "outputs": [
    {
     "name": "stdout",
     "output_type": "stream",
     "text": [
      "a\n"
     ]
    }
   ],
   "source": [
    "var=\"ab\";\n",
    "print(var[:1])\n",
    "    "
   ]
  },
  {
   "cell_type": "code",
   "execution_count": 135,
   "metadata": {
    "collapsed": true
   },
   "outputs": [],
   "source": [
    "def compute_all_parens (n, left, right, s):\n",
    "    if right == n:\n",
    "        print (s)\n",
    "        return\n",
    "    if left < n:\n",
    "        compute_all_parens(n, left+1, right, s + \"(\")\n",
    "    if right < left:\n",
    "        compute_all_parens(n, left, right+1, s + \")\")\n",
    "\n",
    "        "
   ]
  },
  {
   "cell_type": "code",
   "execution_count": 138,
   "metadata": {},
   "outputs": [
    {
     "name": "stdout",
     "output_type": "stream",
     "text": [
      "((()))\n",
      "(()())\n",
      "(())()\n",
      "()(())\n",
      "()()()\n"
     ]
    }
   ],
   "source": [
    "compute_all_parens(3,0,0,\"\")"
   ]
  },
  {
   "cell_type": "code",
   "execution_count": 18,
   "metadata": {},
   "outputs": [
    {
     "name": "stdout",
     "output_type": "stream",
     "text": [
      "5\n"
     ]
    }
   ],
   "source": [
    "def fun(money,coins,index):\n",
    "    \n",
    "    if (money==0):\n",
    "        return 1;\n",
    "    if (index>=len(coins)):\n",
    "        return 0;\n",
    "    amountwithCoin = 0;\n",
    "    counter=0;\n",
    "    counter2=0\n",
    "    while (amountwithCoin <= money):\n",
    "        r = money - amountwithCoin;\n",
    "        \n",
    "        counter = counter + fun(r,coins,index+1);      \n",
    "        amountwithCoin += coins[index];       \n",
    "    return counter;\n",
    "\n",
    "s=fun(5,[1,2,3],0)\n",
    "print(s)"
   ]
  },
  {
   "cell_type": "code",
   "execution_count": 40,
   "metadata": {},
   "outputs": [
    {
     "name": "stdout",
     "output_type": "stream",
     "text": [
      "True\n"
     ]
    }
   ],
   "source": [
    "def fun(a,col,n):\n",
    "    if (col>=n):\n",
    "        return True;\n",
    "    for i in range(n):\n",
    "        if isSafe(a,i,col,n):\n",
    "            a[i][col]=1;\n",
    "            if (fun(a,col+1,n)):\n",
    "                return True;\n",
    "            a[i][col]=0;\n",
    "    return False;\n",
    "    for i in range(n):\n",
    "        for j in range(n):\n",
    "            print(a[i][j])\n",
    "            \n",
    "def isSafe(a, row, col,N):\n",
    "\n",
    "    for i in range(col):\n",
    "        if a[row][i] == 1:\n",
    "            return False\n",
    "\n",
    "    for i,j in zip(range(row,-1,-1), range(col,-1,-1)):\n",
    "        if a[i][j] == 1:\n",
    "            return False\n",
    "    for i,j in zip(range(row,N,1), range(col,-1,-1)):\n",
    "        if a[i][j] == 1:\n",
    "            return False\n",
    "    return True;\n",
    "        \n",
    "import numpy as np\n",
    "a = np.zeros((4,4))\n",
    "print(fun(a,0,4))\n",
    "    "
   ]
  },
  {
   "cell_type": "code",
   "execution_count": 29,
   "metadata": {},
   "outputs": [
    {
     "name": "stdout",
     "output_type": "stream",
     "text": [
      "[[False False False False]\n",
      " [False False False False]\n",
      " [False False False False]\n",
      " [False False False False]]\n"
     ]
    }
   ],
   "source": []
  },
  {
   "cell_type": "code",
   "execution_count": 30,
   "metadata": {},
   "outputs": [
    {
     "name": "stdout",
     "output_type": "stream",
     "text": [
      "4\n",
      "4\n",
      "3\n",
      "3\n",
      "2\n",
      "2\n",
      "1\n",
      "1\n",
      "0\n",
      "0\n"
     ]
    }
   ],
   "source": [
    "row=4;\n",
    "col=4\n",
    "for i,j in zip(range(row,-1,-1), range(col,-1,-1)):\n",
    "        print(i)\n",
    "        print(j)"
   ]
  },
  {
   "cell_type": "code",
   "execution_count": 71,
   "metadata": {},
   "outputs": [
    {
     "name": "stdout",
     "output_type": "stream",
     "text": [
      "[[1, 2, 3], [2, 3, 4], [2, 3, 6]]\n",
      "1\n",
      "0\n",
      "[[1, -1, 3], [-1, 3, 4], [-1, 3, 6]]\n"
     ]
    }
   ],
   "source": [
    "def paint(a,x,y,newColor,oldColor):\n",
    "    if (a[x][y]!=oldColor):\n",
    "        return ;\n",
    "    \n",
    "    a[x][y]=newColor;\n",
    "\n",
    "    \n",
    "    if (x>0):\n",
    "        paint(a,x-1,y,newColor,oldColor);\n",
    "    if (x>0 and y>0):\n",
    "        paint(a,x-1,y-1,newColor,oldColor);\n",
    "    if (x>0 and y<len(a[0])-1):\n",
    "        paint(a,x-1,y+1,newColor,oldColor);\n",
    "        \n",
    "    if x<len(a)-1:\n",
    "        paint(a,x+1,y,newColor,oldColor);\n",
    "    if (x<len(a)-1 and y>0):\n",
    "        print(x+1)\n",
    "        print(y-1)\n",
    "        paint(a,x+1,y-1,newColor,oldColor);\n",
    "    if x<len(a)-1 and y<len(a[0])-1:\n",
    "        paint(a,x+1,y+1,newColor,oldColor);\n",
    "        \n",
    "    if y<len(a[0])-1: \n",
    "        paint(a,x,y+1,newColor,oldColor);\n",
    "    if (y>0):\n",
    "        paint(a,x,y-1,newColor,oldColor);\n",
    "    \n",
    "\n",
    "a=[[1,2,3],[2,3,4],[2,3,6]]\n",
    "print(a)\n",
    "paint(a,0,1,-1,2)\n",
    "print(a)\n",
    "    "
   ]
  },
  {
   "cell_type": "code",
   "execution_count": 47,
   "metadata": {},
   "outputs": [
    {
     "name": "stdout",
     "output_type": "stream",
     "text": [
      "4\n"
     ]
    }
   ],
   "source": [
    "a=[[1,2,3],[2,3,4]]\n",
    "print(a[1][2])"
   ]
  },
  {
   "cell_type": "code",
   "execution_count": 76,
   "metadata": {},
   "outputs": [
    {
     "name": "stdout",
     "output_type": "stream",
     "text": [
      "0\n",
      "1\n",
      "4\n",
      "<generator object createGenerator at 0x7fead347bba0>\n"
     ]
    }
   ],
   "source": [
    "def createGenerator():\n",
    "    mylist = range(3)\n",
    "    for i in mylist:\n",
    "        yield i*i\n",
    "mygenerator = createGenerator() # create a generator\n",
    "for i in mygenerator:\n",
    "    print(i)\n",
    "print(mygenerator)"
   ]
  },
  {
   "cell_type": "code",
   "execution_count": 14,
   "metadata": {
    "collapsed": true
   },
   "outputs": [],
   "source": [
    "def sub(arr,t):\n",
    "    \n",
    "    l=[];\n",
    "    if len(arr)==1:\n",
    "        return arr;\n",
    "    left = arr[:len(arr)//2];\n",
    "    right = arr[len(arr)//2:];\n",
    "    \n",
    "    l1=sub(left,0);\n",
    "    l2=sub(right,0);\n",
    "    for i in l1:\n",
    "        l.append(i);\n",
    "    for i in l2:\n",
    "        l.append(i);\n",
    "    for i in l1:\n",
    "        for j in l2:\n",
    "            l.append(i+j);\n",
    "        \n",
    "    if t==1:\n",
    "        l.append(' ')\n",
    "    return l;"
   ]
  },
  {
   "cell_type": "code",
   "execution_count": 16,
   "metadata": {},
   "outputs": [
    {
     "name": "stdout",
     "output_type": "stream",
     "text": [
      "['1', '2', '12', '3', '4', '34', '13', '14', '134', '23', '24', '234', '123', '124', '1234', ' ']\n"
     ]
    }
   ],
   "source": [
    "a=['1','2','3','4'];\n",
    "print(sub(a,1))\n"
   ]
  },
  {
   "cell_type": "code",
   "execution_count": null,
   "metadata": {
    "collapsed": true
   },
   "outputs": [],
   "source": []
  },
  {
   "cell_type": "code",
   "execution_count": null,
   "metadata": {
    "collapsed": true
   },
   "outputs": [],
   "source": []
  },
  {
   "cell_type": "code",
   "execution_count": null,
   "metadata": {
    "collapsed": true
   },
   "outputs": [],
   "source": []
  },
  {
   "cell_type": "code",
   "execution_count": null,
   "metadata": {
    "collapsed": true
   },
   "outputs": [],
   "source": []
  }
 ],
 "metadata": {
  "kernelspec": {
   "display_name": "Python 3",
   "language": "python",
   "name": "python3"
  },
  "language_info": {
   "codemirror_mode": {
    "name": "ipython",
    "version": 3
   },
   "file_extension": ".py",
   "mimetype": "text/x-python",
   "name": "python",
   "nbconvert_exporter": "python",
   "pygments_lexer": "ipython3",
   "version": "3.6.2"
  }
 },
 "nbformat": 4,
 "nbformat_minor": 2
}
