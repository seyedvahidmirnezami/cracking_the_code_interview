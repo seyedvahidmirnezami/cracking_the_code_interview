{
 "cells": [
  {
   "cell_type": "code",
   "execution_count": 4,
   "metadata": {
    "collapsed": true
   },
   "outputs": [],
   "source": [
    "# write a function that will return the number of times A must be \n",
    "#stated such that B is a substring of the repeated A. If B can never\n",
    "# be a substring, return -1.\n",
    "def repeatedStringMatch(A, B):\n",
    "    q = (len(B) - 1) // len(A) + 1\n",
    "    print(q)\n",
    "    for i in range(2):\n",
    "        if B in A * (q+i):\n",
    "            return q+i\n",
    "    return -1\n",
    "\n",
    "a='abcd';\n",
    "b='cdabcdabcdab';"
   ]
  },
  {
   "cell_type": "code",
   "execution_count": 5,
   "metadata": {},
   "outputs": [
    {
     "name": "stdout",
     "output_type": "stream",
     "text": [
      "3\n",
      "4\n"
     ]
    }
   ],
   "source": [
    "print(repeatedStringMatch(a,b))"
   ]
  },
  {
   "cell_type": "code",
   "execution_count": 7,
   "metadata": {
    "collapsed": true
   },
   "outputs": [],
   "source": [
    "def minDepth(root):\n",
    "    if not root:\n",
    "        return 0;\n",
    "    if not root.left and not root.right:\n",
    "        return 1\n",
    "    elif not root.left:\n",
    "        return minDepth(root.right)+1;\n",
    "    elif not root.right:\n",
    "        return minDepth(root.left)+1;\n",
    "    else:\n",
    "        return min(minDepth(root.left),minDepth(root.right))+1;\n",
    "    "
   ]
  },
  {
   "cell_type": "code",
   "execution_count": 17,
   "metadata": {
    "collapsed": true
   },
   "outputs": [],
   "source": [
    "def maxDepth(root):\n",
    "    if not root:\n",
    "        return 0;\n",
    "    if not root.left and not root.right:\n",
    "        return 1\n",
    "    elif not root.left:\n",
    "        return maxDepth(root.right)+1;\n",
    "    elif not root.right:\n",
    "        return maxDepth(root.left)+1;\n",
    "    else:\n",
    "        return max(maxDepth(root.left),maxDepth(root.right))+1;"
   ]
  },
  {
   "cell_type": "code",
   "execution_count": null,
   "metadata": {
    "collapsed": true
   },
   "outputs": [],
   "source": []
  },
  {
   "cell_type": "code",
   "execution_count": 9,
   "metadata": {},
   "outputs": [
    {
     "name": "stdout",
     "output_type": "stream",
     "text": [
      "['def', 'abc', 'il', 'p']\n"
     ]
    }
   ],
   "source": [
    "L = [('def', 10), ('abc', 15), ('il', 12),('ghi', 9),('p', 20),('tyi', 8)];\n",
    "b=[]\n",
    "for i in L:\n",
    "    if (i[1])>=10:\n",
    "        b.append(i[0]);\n",
    "print(b)\n",
    "\n",
    "\n"
   ]
  },
  {
   "cell_type": "code",
   "execution_count": 14,
   "metadata": {},
   "outputs": [
    {
     "name": "stdout",
     "output_type": "stream",
     "text": [
      "[2, 3, -1, 5, 4, -2, 20, 30, -1, 18, 22]\n",
      "[2, 3, -1, 5, 4, -2, 20, -1, 18, 22]\n",
      "[2, 3, -1, 5, 4, -2, 20, -1, 18]\n",
      "[2, 3, -1, 5, 4, -2, -1, 18]\n",
      "18\n"
     ]
    }
   ],
   "source": [
    "def find_kth(k, arr):\n",
    "    if k == 1:\n",
    "        return max(arr)\n",
    "    m = max(arr)\n",
    "    new_arr = list(filter(lambda a: a != m, arr))\n",
    "    print(new_arr)\n",
    "    return(find_kth(k-1, new_arr))\n",
    "\n",
    "l=[2,3,-1,5,4,-2,20,30,-1,80,18,22];\n",
    "print(find_kth(5,l))"
   ]
  },
  {
   "cell_type": "code",
   "execution_count": null,
   "metadata": {
    "collapsed": true
   },
   "outputs": [],
   "source": [
    "def minJumps(arr, n):\n",
    "    jumps = [0 for i in range(n)]\n",
    " \n",
    " \n",
    "    jumps[0] = 0\n",
    " \n",
    "    # Find the minimum number of \n",
    "    # jumps to reach arr[i] from \n",
    "    # arr[0] and assign this \n",
    "    # value to jumps[i]\n",
    "    for i in range(1, n):\n",
    "        jumps[i] = float('inf')\n",
    "        for j in range(i):\n",
    "            if (i <= j + arr[j]) and (jumps[j] != float('inf')):\n",
    "                jumps[i] = min(jumps[i], jumps[j] + 1)\n",
    "                break\n",
    "    return jumps\n",
    "\n",
    "a=[2,3,1,1,2,4,2,0,1,1];\n",
    "print(minJumps(a,))"
   ]
  },
  {
   "cell_type": "code",
   "execution_count": 12,
   "metadata": {},
   "outputs": [
    {
     "ename": "TypeError",
     "evalue": "minJumps() missing 1 required positional argument: 'n'",
     "output_type": "error",
     "traceback": [
      "\u001b[0;31m---------------------------------------------------------------------------\u001b[0m",
      "\u001b[0;31mTypeError\u001b[0m                                 Traceback (most recent call last)",
      "\u001b[0;32m<ipython-input-12-8dbce4831e6c>\u001b[0m in \u001b[0;36m<module>\u001b[0;34m()\u001b[0m\n\u001b[1;32m     18\u001b[0m \u001b[0;34m\u001b[0m\u001b[0m\n\u001b[1;32m     19\u001b[0m \u001b[0ma\u001b[0m\u001b[0;34m=\u001b[0m\u001b[0;34m[\u001b[0m\u001b[0;36m2\u001b[0m\u001b[0;34m,\u001b[0m\u001b[0;36m3\u001b[0m\u001b[0;34m,\u001b[0m\u001b[0;36m1\u001b[0m\u001b[0;34m,\u001b[0m\u001b[0;36m1\u001b[0m\u001b[0;34m,\u001b[0m\u001b[0;36m2\u001b[0m\u001b[0;34m,\u001b[0m\u001b[0;36m4\u001b[0m\u001b[0;34m,\u001b[0m\u001b[0;36m2\u001b[0m\u001b[0;34m,\u001b[0m\u001b[0;36m0\u001b[0m\u001b[0;34m,\u001b[0m\u001b[0;36m1\u001b[0m\u001b[0;34m,\u001b[0m\u001b[0;36m1\u001b[0m\u001b[0;34m]\u001b[0m\u001b[0;34m;\u001b[0m\u001b[0;34m\u001b[0m\u001b[0m\n\u001b[0;32m---> 20\u001b[0;31m \u001b[0mprint\u001b[0m\u001b[0;34m(\u001b[0m\u001b[0mminJumps\u001b[0m\u001b[0;34m(\u001b[0m\u001b[0ma\u001b[0m\u001b[0;34m,\u001b[0m\u001b[0;34m)\u001b[0m\u001b[0;34m)\u001b[0m\u001b[0;34m\u001b[0m\u001b[0m\n\u001b[0m",
      "\u001b[0;31mTypeError\u001b[0m: minJumps() missing 1 required positional argument: 'n'"
     ]
    }
   ],
   "source": [
    "def occurrence(a,b):\n",
    "    result=0;\n",
    "    for i in range(len(a)):\n",
    "        if a[i]==b:\n",
    "            result+=1;\n",
    "    return result;\n",
    "a=[1, 2, 2, 2, 2, 3, 4, 7 ,8 ,8];\n",
    "print(occurrence(a,8))\n"
   ]
  },
  {
   "cell_type": "code",
   "execution_count": 20,
   "metadata": {},
   "outputs": [
    {
     "name": "stdout",
     "output_type": "stream",
     "text": [
      "{1: 1, 2: 4, 3: 1, 4: 1, 7: 1, 8: 2}\n"
     ]
    }
   ],
   "source": [
    "def histo(a):\n",
    "    \n",
    "  \n",
    "    b=a\n",
    "    enter=1;\n",
    "    finalResult=[]\n",
    "    finalValue=[]\n",
    "    while (enter):\n",
    "        res = 0;\n",
    "        temp=[];\n",
    "        l=range(len(b));       \n",
    "        num = b[l[0]];\n",
    "        for ind,val in enumerate(b):\n",
    "            if val==num:\n",
    "                res+=1;\n",
    "            else:\n",
    "                temp.append(b[ind]);\n",
    "        finalResult.append(res)\n",
    "        finalValue.append(num)\n",
    "        b=temp;\n",
    "        if not b:\n",
    "            enter=0;\n",
    "    dictionary = dict(zip(finalValue, finalResult))\n",
    "    return dictionary\n",
    "        \n",
    "a=[1, 2, 2, 2, 2, 3, 4, 7 ,8 ,8];\n",
    "print(histo(a))"
   ]
  },
  {
   "cell_type": "code",
   "execution_count": 22,
   "metadata": {},
   "outputs": [
    {
     "name": "stdout",
     "output_type": "stream",
     "text": [
      "{0: 1, -1: 5, 10: 3, 1: 1}\n"
     ]
    }
   ],
   "source": []
  },
  {
   "cell_type": "code",
   "execution_count": null,
   "metadata": {
    "collapsed": true
   },
   "outputs": [],
   "source": [
    "def powerOfFive(a):\n",
    "    res=0;\n",
    "    while(a>=5):\n",
    "        if (a%5==0):\n",
    "            res+=1;\n",
    "            a=a//5;\n",
    "        else:\n",
    "            return \"No\";\n",
    "    return res;\n",
    "            \n",
    "print(powerOfFive(625))"
   ]
  },
  {
   "cell_type": "code",
   "execution_count": 16,
   "metadata": {},
   "outputs": [
    {
     "name": "stdout",
     "output_type": "stream",
     "text": [
      "{1: 1, 2: 4, 3: 1, 4: 1, 7: 1, 8: 2}\n"
     ]
    }
   ],
   "source": [
    "def removeSpace(a):\n",
    "    res='';\n",
    "    temp=0;\n",
    "    for i in range(len(a)):    \n",
    "        if a[i]!=' ':            \n",
    "            if temp==1:\n",
    "                res=res+' ';\n",
    "                temp=0;\n",
    "            res=res+a[i];        \n",
    "        else:\n",
    "            temp=1;           \n",
    "    return res\n",
    "a='I   live   on     earth  ';\n",
    "print(removeSpace(a))"
   ]
  },
  {
   "cell_type": "code",
   "execution_count": null,
   "metadata": {
    "collapsed": true
   },
   "outputs": [],
   "source": []
  },
  {
   "cell_type": "code",
   "execution_count": null,
   "metadata": {
    "collapsed": true
   },
   "outputs": [],
   "source": []
  },
  {
   "cell_type": "code",
   "execution_count": null,
   "metadata": {
    "collapsed": true
   },
   "outputs": [],
   "source": []
  },
  {
   "cell_type": "code",
   "execution_count": null,
   "metadata": {
    "collapsed": true
   },
   "outputs": [],
   "source": [
    "def toBit(n):\n",
    "    l=[];\n",
    "    \n",
    "    while (n>0):\n",
    "        print(n)\n",
    "        l.append(n%2);\n",
    "        n=n//2;\n",
    "    l.append(n%2)   \n",
    "    return l\n",
    "\n",
    "print(toBit(2))\n",
    "                     \n",
    "\n",
    "                       "
   ]
  },
  {
   "cell_type": "code",
   "execution_count": null,
   "metadata": {
    "collapsed": true
   },
   "outputs": [],
   "source": [
    "def countBit(n):\n",
    "    l=[];\n",
    "    count=0;\n",
    "    while (n>1):\n",
    "\n",
    "        l.append(n%2);\n",
    "        if (n%2)==1:\n",
    "            count+=1;\n",
    "        n=n//2;\n",
    "    if (n==1):\n",
    "        count+=1; \n",
    "    return count\n",
    "     \n",
    "#print(countBit(1))\n",
    "                       \n",
    "    \n",
    "def bitDifference(a):\n",
    "    res=0;\n",
    "    for i in range(len(a)):\n",
    "        #print(a[i])\n",
    "        for j in range(len(a)):\n",
    "            #if (a[i]!=a[j]):\n",
    "            res=res+(abs(countBit(a[i])-countBit(a[j])));\n",
    "            print(abs(countBit(a[i])-countBit(a[j])))\n",
    "            \n",
    "    return res;\n",
    "a=[1,3,5]\n",
    "print(bitDifference(a))                "
   ]
  },
  {
   "cell_type": "code",
   "execution_count": null,
   "metadata": {
    "collapsed": true
   },
   "outputs": [],
   "source": []
  },
  {
   "cell_type": "code",
   "execution_count": null,
   "metadata": {
    "collapsed": true
   },
   "outputs": [],
   "source": []
  },
  {
   "cell_type": "code",
   "execution_count": null,
   "metadata": {
    "collapsed": true
   },
   "outputs": [],
   "source": []
  },
  {
   "cell_type": "code",
   "execution_count": 18,
   "metadata": {},
   "outputs": [
    {
     "name": "stdout",
     "output_type": "stream",
     "text": [
      "3.5\n"
     ]
    }
   ],
   "source": [
    "def medianStream(a):\n",
    "    sortedArray=a;\n",
    "    #sortedArray = sortArray(a);\n",
    "    size = len(sortedArray);\n",
    "    if size%2==0:\n",
    "        \n",
    "        return sum(sortedArray[size//2-1:size//2+1])/2;\n",
    "    else:\n",
    "        return (sortedArray[size//2])\n",
    "a=[1,2,3,4,5,6]\n",
    "print(medianStream(a))"
   ]
  },
  {
   "cell_type": "code",
   "execution_count": null,
   "metadata": {
    "collapsed": true
   },
   "outputs": [],
   "source": [
    "def total_length(node):\n",
    "    if not node:\n",
    "        return 0;\n",
    "    lengthLeft = total_length(node.left)\n",
    "    lengthRight = total_length(node.right)\n",
    "    if node.left and node.left.value == node.value:\n",
    "        left_arrow == lengthLeft + 1;\n",
    "    if node.right and node.right.value == node.value:\n",
    "        right_arrow == lengthRight + 1;\n",
    "    return max(right_arrow,left_arrow);\n"
   ]
  }
 ],
 "metadata": {
  "kernelspec": {
   "display_name": "Python 3",
   "language": "python",
   "name": "python3"
  },
  "language_info": {
   "codemirror_mode": {
    "name": "ipython",
    "version": 3
   },
   "file_extension": ".py",
   "mimetype": "text/x-python",
   "name": "python",
   "nbconvert_exporter": "python",
   "pygments_lexer": "ipython3",
   "version": "3.6.2"
  }
 },
 "nbformat": 4,
 "nbformat_minor": 2
}
