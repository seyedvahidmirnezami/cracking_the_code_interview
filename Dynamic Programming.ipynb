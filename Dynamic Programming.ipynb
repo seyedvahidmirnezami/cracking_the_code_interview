{
 "cells": [
  {
   "cell_type": "code",
   "execution_count": 11,
   "metadata": {},
   "outputs": [
    {
     "name": "stdout",
     "output_type": "stream",
     "text": [
      "[1, 1, 2]\n",
      "7\n"
     ]
    }
   ],
   "source": [
    "def fibonacci(n):    \n",
    "    if n<=1:\n",
    "        return n;\n",
    "    else:\n",
    "        return fun(n-1)+fun(n-2)\n",
    "g=fun(4);\n",
    "print(g)"
   ]
  },
  {
   "cell_type": "code",
   "execution_count": 15,
   "metadata": {},
   "outputs": [
    {
     "name": "stdout",
     "output_type": "stream",
     "text": [
      "5\n"
     ]
    }
   ],
   "source": [
    "# Fibonacci Series using Dynamic Programming\n",
    "def fibonacci(n):\n",
    "     \n",
    "    # Taking 1st two fibonacci nubers as 0 and 1\n",
    "    FibArray = [0, 1]\n",
    "     \n",
    "    while len(FibArray) < n + 1: \n",
    "        FibArray.append(0) \n",
    "     \n",
    "    if n <= 1:\n",
    "       return n\n",
    "    else:\n",
    "       if FibArray[n - 1] ==  0:\n",
    "           FibArray[n - 1] = fibonacci(n - 1)\n",
    "     \n",
    "       if FibArray[n - 2] ==  0:\n",
    "           FibArray[n - 2] = fibonacci(n - 2)\n",
    "     \n",
    "       FibArray[n] = FibArray[n - 2] + FibArray[n - 1]\n",
    "    return FibArray[n]\n",
    "     \n",
    "print(fibonacci(5))"
   ]
  },
  {
   "cell_type": "code",
   "execution_count": 31,
   "metadata": {},
   "outputs": [
    {
     "name": "stdout",
     "output_type": "stream",
     "text": [
      "7778742049\n"
     ]
    }
   ],
   "source": [
    "def stairs(n):\n",
    "    res=[];\n",
    "    res.append(1);\n",
    "    res.append(2);\n",
    "\n",
    "    for i in range(2,n):\n",
    "\n",
    "        res.append(res[i-1]+res[i-2]);\n",
    "    return res[-1]\n",
    "print(stairs(47))"
   ]
  },
  {
   "cell_type": "code",
   "execution_count": 71,
   "metadata": {},
   "outputs": [
    {
     "name": "stdout",
     "output_type": "stream",
     "text": [
      "[0, 1, 5, 8, 10, 13]\n",
      "[0, 1, 5, 8, 10, 13, 17, 18, 22]\n"
     ]
    }
   ],
   "source": [
    "def fun(n,l):\n",
    "    temp=[]\n",
    "    \n",
    "    r = [0 for x in range(n+1)]\n",
    "    \n",
    "    r[0]=0\n",
    "    for i in range(1,n+1):\n",
    "        maxTemp=-1;\n",
    "        for j in range(i):\n",
    "            maxTemp = max(maxTemp,l[j]+r[i-j-1]);\n",
    "        r[i]=maxTemp\n",
    "        \n",
    "    return r\n",
    "s=fun(5,[1,5,8,9,10])\n",
    "print(s)\n",
    "s=fun(8, [1, 5, 8, 9, 10, 17, 17, 20])\n",
    "print(s)"
   ]
  },
  {
   "cell_type": "code",
   "execution_count": 59,
   "metadata": {
    "collapsed": true
   },
   "outputs": [],
   "source": [
    "def cutRod(price, n):\n",
    "    val = [0 for x in range(n+1)]\n",
    "    val[0] = 0\n",
    " \n",
    "    # Build the table val[] in bottom up manner and return\n",
    "    # the last entry from the table\n",
    "    for i in range(1, n+1):\n",
    "        max_val = -1\n",
    "        for j in range(i):\n",
    "             max_val = max(max_val, price[j] + val[i-j-1])\n",
    "        val[i] = max_val\n",
    " \n",
    "    return val[n]"
   ]
  },
  {
   "cell_type": "code",
   "execution_count": 62,
   "metadata": {},
   "outputs": [
    {
     "name": "stdout",
     "output_type": "stream",
     "text": [
      "13\n",
      "22\n"
     ]
    }
   ],
   "source": [
    "s=cutRod([1,5,8,9,10],5)\n",
    "print(s)\n",
    "s=cutRod([1, 5, 8, 9, 10, 17, 17, 20],8)\n",
    "print(s)"
   ]
  },
  {
   "cell_type": "code",
   "execution_count": 32,
   "metadata": {},
   "outputs": [
    {
     "name": "stdout",
     "output_type": "stream",
     "text": [
      "5\n",
      "4\n",
      "3\n",
      "2\n",
      "1\n"
     ]
    }
   ],
   "source": []
  },
  {
   "cell_type": "code",
   "execution_count": 10,
   "metadata": {},
   "outputs": [
    {
     "name": "stdout",
     "output_type": "stream",
     "text": [
      "9\n"
     ]
    }
   ],
   "source": [
    "#recursion\n",
    "def house(var,nums):\n",
    "    \n",
    "    if var==0:\n",
    "        return nums[0];\n",
    "    \n",
    "    max_val = -1\n",
    "    max_val = max(max_val,house(var-1,nums));\n",
    "    for j in range(var-2,-1,-1):\n",
    "         max_val = max(max_val, house(j,nums)+nums[var-1]);\n",
    "    return max_val;\n",
    "nums=[1,2,3,4,5];\n",
    "print(house(5,nums));"
   ]
  },
  {
   "cell_type": "code",
   "execution_count": 38,
   "metadata": {},
   "outputs": [
    {
     "name": "stdout",
     "output_type": "stream",
     "text": [
      "9\n"
     ]
    }
   ],
   "source": [
    "#dynamic\n",
    "def house(var,nums):\n",
    "    r=[0 for x in range(var)]\n",
    "    r[0]=nums[0]\n",
    "    r[1]=max([nums[0],nums[1]])\n",
    "\n",
    "    for i in range(2,var):\n",
    "        r[i]=r[i-1];\n",
    "        r[i]=max(r[i-1],nums[i]+r[i-2]);       \n",
    "    \n",
    "    return r[-1];\n",
    "    \n",
    "\n",
    "nums=[1,2,3,4,5];\n",
    "print(house(5,nums));"
   ]
  },
  {
   "cell_type": "code",
   "execution_count": 64,
   "metadata": {},
   "outputs": [
    {
     "name": "stdout",
     "output_type": "stream",
     "text": [
      "[0, -6, 4, 2, 5, 3]\n",
      "5\n"
     ]
    }
   ],
   "source": [
    "def stock(nums):\n",
    "    var=len(nums)\n",
    "    r=[0 for x in range(var)]\n",
    "    \n",
    "    for i in range(1,var):\n",
    "        r[i]=nums[i]-min(nums[0:i])\n",
    "    print(r)\n",
    "    if max(r)>0:\n",
    "        return max(r)\n",
    "    else:\n",
    "        return 0\n",
    "\n",
    "nums=[7,1,5,3,6,4];\n",
    "print(stock(nums));"
   ]
  },
  {
   "cell_type": "code",
   "execution_count": 76,
   "metadata": {},
   "outputs": [
    {
     "data": {
      "text/plain": [
       "3"
      ]
     },
     "execution_count": 76,
     "metadata": {},
     "output_type": "execute_result"
    }
   ],
   "source": [
    "def pair(nums):\n",
    "    \n",
    "    var = len(nums);\n",
    "    maxVal = 0;\n",
    "    for i in range(var-1,0,-1):\n",
    "        \n",
    "        for j in range(i-1,-1,-1):\n",
    "            if nums[i][0]-nums[j][0]>maxVal:\n",
    "                maxVal = nums[i][0]-nums[j][0];\n",
    "                length = i-j\n",
    "                \n",
    "    return length;\n",
    "nums=[[5,24],[15,25],[27,40],[50,60]]\n",
    "pair(nums)"
   ]
  },
  {
   "cell_type": "code",
   "execution_count": null,
   "metadata": {
    "collapsed": true
   },
   "outputs": [],
   "source": [
    "# A Dynamic Programming based Python Program for 0-1 Knapsack problem\n",
    "# Returns the maximum value that can be put in a knapsack of capacity W\n",
    "def knapSack(W, wt, val, n):\n",
    "    K = [[0 for x in range(W+1)] for x in range(n+1)]\n",
    " \n",
    "    # Build table K[][] in bottom up manner\n",
    "    for i in range(n+1):\n",
    "        for w in range(W+1):\n",
    "            if i==0 or w==0:\n",
    "                K[i][w] = 0\n",
    "            elif wt[i-1] <= w:\n",
    "                K[i][w] = max(val[i-1] + K[i-1][w-wt[i-1]],  K[i-1][w])\n",
    "            else:\n",
    "                K[i][w] = K[i-1][w]\n",
    " \n",
    "    return K[n][W]"
   ]
  },
  {
   "cell_type": "code",
   "execution_count": 38,
   "metadata": {},
   "outputs": [
    {
     "name": "stdout",
     "output_type": "stream",
     "text": [
      "[[0, 1, 2, 3, 4, 5], [0, 1, 2, 3, 4, 5], [0, 1, 2, 3, 4, 5], [0, 1, 2, 3, 4, 5], [0, 1, 2, 3, 4, 5], [0, 1, 2, 3, 4, 5], [0, 1, 2, 3, 4, 5]]\n"
     ]
    }
   ],
   "source": [
    "def gen(x,y):\n",
    "    var1=len(x);\n",
    "    var2=len(y);\n",
    "\n",
    "    c=[[0]*var2]*var1;\n",
    "\n",
    "\n",
    "    for i in range(1,var1):\n",
    " \n",
    "        for j in range(1,var2):\n",
    "         \n",
    "            if x[i-1]==y[j-1]:\n",
    "                c[i][j]=c[i-1][j-1]+1;\n",
    "            else:\n",
    "                c[i][j]=max(c[i-1][j],c[i][j-1]);\n",
    "    return c;\n",
    "x=\"abcccdf\"\n",
    "y=\"abccdf\"\n",
    "print(gen(x,y))"
   ]
  },
  {
   "cell_type": "code",
   "execution_count": 82,
   "metadata": {},
   "outputs": [
    {
     "name": "stdout",
     "output_type": "stream",
     "text": [
      "[[0, 0], [0, 0]]\n",
      "[0, 0]\n"
     ]
    }
   ],
   "source": [
    "def power_set_2(set_):\n",
    "    subsets = [[]]\n",
    "    subsetsK=[];\n",
    "    for element in set_:\n",
    "        for ind in range(len(subsets)):\n",
    "            subsets.append(subsets[ind] + [element])\n",
    "\n",
    "    \n",
    "    return subsets\n",
    "l=[1,2,3,4,5]\n",
    "s=power_set_2(l)\n",
    "print(s)"
   ]
  },
  {
   "cell_type": "code",
   "execution_count": 35,
   "metadata": {},
   "outputs": [
    {
     "name": "stdout",
     "output_type": "stream",
     "text": [
      "[[0, 0, 0, 0, 0, 0, 0, 0], [0, 0, 0, 0, 0, 0, 0, 0], [0, 1, 0, 0, 0, 1, 1, 0], [0, 0, 2, 0, 0, 0, 0, 0], [0, 0, 0, 0, 0, 0, 0, 0], [0, 0, 0, 0, 1, 0, 0, 0], [0, 1, 0, 0, 0, 2, 1, 0], [0, 1, 0, 0, 0, 1, 3, 0], [0, 0, 0, 0, 0, 0, 0, 4]]\n"
     ]
    }
   ],
   "source": [
    "def commonSubstring(x,y):\n",
    "  \n",
    "    var1=len(x);\n",
    "    var2=len(y);\n",
    "\n",
    "    #c=[[0]*var2]*var1;\n",
    "    c=[[0 for k in range(var2+1)] for l in range(var1+1)]\n",
    "    maxVal=-1\n",
    "\n",
    "    for i in range(1,var1+1):\n",
    " \n",
    "        for j in range(1,var2+1):\n",
    "         \n",
    "            if x[i-1]==y[j-1]:\n",
    "                c[i][j]=c[i-1][j-1]+1;\n",
    "            else:\n",
    "                c[i][j]=0\n",
    "            maxVal=max(maxVal,c[i][j]);\n",
    "    return c;\n",
    "\n",
    "x=\"DEADBEEF\"\n",
    "y=\"EATBEEF\"\n",
    "print(commonSubstring(x,y))"
   ]
  },
  {
   "cell_type": "code",
   "execution_count": null,
   "metadata": {
    "collapsed": true
   },
   "outputs": [],
   "source": [
    "#longest palindromic subsequence\n",
    "def longestPalindrome(s1):\n",
    "    var1= len(s1);\n",
    "    c=[[0 for k in range(var1)] for l in range(var1)];\n",
    "    for i in range(var1):\n",
    "        c[i][i]=1;\n",
    "    for l in range(1,var1+1):\n",
    "        for i in range(var1-l):\n",
    "            j=l+i\n",
    "            if s1[j]==s1[i]:\n",
    "                c[i][j]=c[i+1][j-1]+2\n",
    "            else:\n",
    "                c[i][j]=max(c[i+1][j],c[i][j-1])\n",
    "    return c[0][-1];\n",
    "\n",
    "s1='BABCBAB';\n",
    "print(longestPalindrome(s1))"
   ]
  },
  {
   "cell_type": "code",
   "execution_count": 40,
   "metadata": {},
   "outputs": [
    {
     "name": "stdout",
     "output_type": "stream",
     "text": [
      "7\n",
      "2\n",
      "6\n"
     ]
    }
   ],
   "source": [
    "def minDist(sRow,sCol):\n",
    "    varRow=len(sRow);\n",
    "    varCol=len(sCol);\n",
    "    c=[[0 for k in range(varRow+1)] for l in range(varCol+1)];\n",
    "    for i in range(1,varRow+1):\n",
    "        c[0][i]=i;\n",
    "    for i in range(1,varCol+1):\n",
    "        c[i][0]=i;\n",
    "    for i in range(1,varCol+1):\n",
    "        for j in range(1,varRow+1):    \n",
    "            if sRow[j-1]==sCol[i-1]:\n",
    "                c[i][j]=c[i-1][j-1];\n",
    "            else:\n",
    "                c[i][j]=min([c[i-1][j-1],c[i-1][j],c[i][j-1]])+1;\n",
    "                \n",
    "    \n",
    "    return c[-1][-1];\n",
    "\n",
    "s1='abcdef';\n",
    "s2='azced';\n",
    "print(minDist(s1,s2))"
   ]
  },
  {
   "cell_type": "code",
   "execution_count": 23,
   "metadata": {},
   "outputs": [
    {
     "name": "stdout",
     "output_type": "stream",
     "text": [
      "3\n"
     ]
    }
   ],
   "source": [
    "def contiguous(arr):\n",
    "    n=len(arr)\n",
    "    v = [0 for k in range(len(arr))]\n",
    "    v[0] = arr[0];\n",
    "    for i in range(1,n):\n",
    "        v[i] = max(v[i-1]+a[i],a[i]);\n",
    "    return max(v)\n",
    "a=[-2, -3, 4, -1, -2, 1, 5, -3,10]\n",
    "print(contiguous(a))"
   ]
  },
  {
   "cell_type": "code",
   "execution_count": null,
   "metadata": {
    "collapsed": true
   },
   "outputs": [],
   "source": [
    "def minimumSquare(a, b):\n",
    " \n",
    "    result = 0\n",
    "    rem = 0\n",
    " \n",
    "    # swap if a is small size side .\n",
    "    if (a < b):\n",
    "        a, b = b, a \n",
    " \n",
    "    # Iterate until small size side is\n",
    "    # greater then 0\n",
    "\n",
    "    while (b > 0):\n",
    "        print(int(a/b))\n",
    "        # Update result\n",
    "        result += int(a / b) \n",
    "        print(result)\n",
    "        rem = int(a % b) \n",
    "        a = b \n",
    "        b = rem \n",
    " \n",
    "    return result\n",
    "\n",
    "print(minimumSquare(4,5))"
   ]
  },
  {
   "cell_type": "code",
   "execution_count": 4,
   "metadata": {},
   "outputs": [
    {
     "name": "stdout",
     "output_type": "stream",
     "text": [
      "[[0, 0], [0, 0], [0, 0], [0, 0], [0, 0]]\n"
     ]
    }
   ],
   "source": [
    "#longest palindromic substring\n",
    "def substring(s,t):\n",
    "    m= len(s);\n",
    "    n= len(t);\n",
    "    d=[[0 for k in range(n)] for l in range(m)];\n",
    "    max_value = -1;\n",
    "    for i in range(m):\n",
    "        for l in range(n):\n",
    "            if s[i] == t[j]:\n",
    "                d[i][j] = 1 + d[i-1] + d[j-1];\n",
    "        \n",
    "            else:\n",
    "                d[i][j]=0;\n",
    "            max_value = max(max_value,d[i][j])\n",
    "    return max_value\n",
    "                    \n",
    "s1='BABCBAB';\n",
    "print(substring(s1))\n",
    "    "
   ]
  },
  {
   "cell_type": "code",
   "execution_count": 40,
   "metadata": {},
   "outputs": [
    {
     "name": "stdout",
     "output_type": "stream",
     "text": [
      "7\n"
     ]
    }
   ],
   "source": []
  },
  {
   "cell_type": "code",
   "execution_count": 36,
   "metadata": {},
   "outputs": [
    {
     "name": "stdout",
     "output_type": "stream",
     "text": [
      "abaab\n",
      "$a$b$a$a$b$\n",
      "4\n"
     ]
    }
   ],
   "source": [
    "#longest palindromic substring\n",
    "def longestPalindromeSubString(s1):\n",
    "    s2=\"$\"\n",
    "    print(s1)\n",
    "    var1= len(s1);\n",
    "    for i in range(1,2*var1+1):\n",
    "        if i%2==0:\n",
    "            s2=s2+\"$\";\n",
    "        else:\n",
    "            s2=s2+s1[i//2];\n",
    "            \n",
    "    print(s2)\n",
    "    c=[0 for k in range(2*var1+1)]\n",
    "    temp=0;\n",
    "    for i in range(1,2*var1):\n",
    "        counter=1;\n",
    "        \n",
    "        c[i-1]=temp*2+1\n",
    "        temp=0;\n",
    "        \n",
    "        while (i-counter>=0 and i+counter<(2*var1+1) and temp+1==counter):\n",
    "            \n",
    "            if (s2[i-counter]==s2[i+counter]):\n",
    "                temp+=1\n",
    "                \n",
    "            counter += 1;\n",
    "    return max(c)//2\n",
    "             \n",
    "\n",
    "s1='abaab';\n",
    "print(longestPalindromeSubString(s1))"
   ]
  },
  {
   "cell_type": "code",
   "execution_count": 37,
   "metadata": {},
   "outputs": [
    {
     "name": "stdout",
     "output_type": "stream",
     "text": [
      "3\n"
     ]
    }
   ],
   "source": [
    "#longest palindromic substring\n",
    "def longestPalindromeSubString(s1):\n",
    "    var1= len(s1);\n",
    "    l3=[];\n",
    "    counter=0;\n",
    "    ind=0;\n",
    "    for i in range(var1):\n",
    "        \n",
    "        if s1[ind:i+1]==s1[var1-i-1:var1-ind]:\n",
    "            l3.append(s1[ind:i+1])\n",
    "            ind=i+1;          \n",
    "        else:\n",
    "            counter+=1;\n",
    "    return len(l3)\n",
    "s1='abaab'\n",
    "print(longestPalindromeSubString(s1))"
   ]
  },
  {
   "cell_type": "code",
   "execution_count": 157,
   "metadata": {},
   "outputs": [
    {
     "name": "stdout",
     "output_type": "stream",
     "text": [
      "1\n",
      "1\n",
      "4\n",
      "5\n",
      "5\n"
     ]
    }
   ],
   "source": []
  },
  {
   "cell_type": "code",
   "execution_count": 43,
   "metadata": {},
   "outputs": [
    {
     "name": "stdout",
     "output_type": "stream",
     "text": [
      "14\n"
     ]
    }
   ],
   "source": []
  },
  {
   "cell_type": "code",
   "execution_count": null,
   "metadata": {
    "collapsed": true
   },
   "outputs": [],
   "source": []
  }
 ],
 "metadata": {
  "kernelspec": {
   "display_name": "Python 3",
   "language": "python",
   "name": "python3"
  },
  "language_info": {
   "codemirror_mode": {
    "name": "ipython",
    "version": 3
   },
   "file_extension": ".py",
   "mimetype": "text/x-python",
   "name": "python",
   "nbconvert_exporter": "python",
   "pygments_lexer": "ipython3",
   "version": "3.6.2"
  }
 },
 "nbformat": 4,
 "nbformat_minor": 2
}
