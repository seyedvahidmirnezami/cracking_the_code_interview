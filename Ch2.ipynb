{
 "cells": [
  {
   "cell_type": "code",
   "execution_count": null,
   "metadata": {
    "collapsed": true
   },
   "outputs": [],
   "source": [
    "class Node(object):\n",
    "    def __init__(self,data):\n",
    "        self.name = data;\n",
    "        self.nextNode= None;\n",
    "\n",
    "class linkedList(object):\n",
    "    def __init__(self):\n",
    "        self.head = None;\n",
    "        self.size = 0;\n",
    "        \n",
    "def insertStart(self,data):\n",
    "    self.size = self.sieze + 1;\n",
    "    newNode= Node(data);\n",
    "    if self.head is None:\n",
    "        self.head = newNode;\n",
    "    else:\n",
    "        newNode.nextNode=self.head;\n",
    "        slf.head = newNode;\n",
    "        \n",
    "def insertEnd:\n",
    "    self.size = self.size+1;\n",
    "    newNode = Node(data);\n",
    "    actualNode = self.head\n",
    "    while actualNode is not None:\n",
    "        actualNode = actualNode.nextNode;\n",
    "    actualNode.nextNode = newNode;\n",
    "        \n",
    "def traverse(self):\n",
    "    actualNode = self.head;\n",
    "    while actualNode is not None:\n",
    "        print(actualNode.data)\n",
    "        actualNode = actualNode.nextNode;\n",
    "        \n",
    "def remove(self.data):\n",
    "    self.size = self.size - 1;\n",
    "    \n",
    "    currentNode = self.head;\n",
    "    prevNode = None;\n",
    "    while currentNode.data != data:\n",
    "        prevNode = currentNode;\n",
    "        currentNode = currentNode.nextNode;\n",
    "    \n",
    "    if prevNode is None:\n",
    "        self.head = currentNode.nextNode;\n",
    "    else:\n",
    "        prevNode.nextNode = currentNode.nextNode;\n",
    "        \n",
    "def removeDup(self):\n",
    "    a = [];\n",
    "    currentNode = self.head;\n",
    "    tempNode = None;\n",
    "    while currnetNode is not None:\n",
    "        if currentNode.data in a:\n",
    "            tempNode = currentnode.nextNode;\n",
    "        else:\n",
    "            a.append(currnetNode.data);\n",
    "        tempNode = currentNode;\n",
    "        currentNode = currnetNode.nextNode;\n",
    "        \n",
    "def removeDup2(self):\n",
    "    currentNode = self.head;\n",
    "    while currentNode is not None:\n",
    "        num = currentNode.data;\n",
    "        tempNode = None;\n",
    "        preNode = None;\n",
    "        while tempNode is not None:\n",
    "            if currentNode.data==tempNode.data:\n",
    "                prevNode.next = tempNode.nextNode;\n",
    "            tempNode = tempNode.nextNode;\n",
    "        currentNode = currnetNode.nextNode;\n",
    "        \n",
    "def findElements(self,n):\n",
    "    actualNode = self.head;\n",
    "    for i in range(n):\n",
    "        if actualNode is None:\n",
    "            raise ValueError('it is short')\n",
    "        actualNode = actualNode.nextNode;\n",
    "    while actualNode is not None:\n",
    "        return actualNode.data\n",
    "    \n",
    "def removeMiddle(self):\n",
    "    actualNode = self.head;\n",
    "    prevNode = None;\n",
    "    for i in range(int(self.size/2)+1):\n",
    "        prevNode = actualNode;\n",
    "        actuaNode = actualNode.nextNode;\n",
    "    prevNode.nextNode = actualNode.nextNode;\n",
    "        \n",
    "            \n",
    "    \n",
    "def removeMiddle(node):\n",
    "    node.value = node.nextNode.value;\n",
    "    node.nextNode = node.NextNode.NextNode;\n",
    "\n",
    "    \n",
    "def sumLinkedList(node1,node2):\n",
    "    node3= Node();\n",
    "    tempValueToNextNode=0;\n",
    "    while (node1 is not None or node2 is not None):\n",
    "        tempValue = node1.value+node2.value;\n",
    "        if (tempValue//10)==0:\n",
    "            node3.data=tempValue+tempValueToNextNode;\n",
    "            node3.nextNode=None;\n",
    "        else:\n",
    "            tempValueToNextNode = tempValue//10;\n",
    "            node3.data=tempValue%10;\n",
    "            node3.nextNode=None;\n",
    "        node1 = node1.nextNode;\n",
    "        node2 = node2.nextNode;\n",
    "\n",
    "def circular(node):\n",
    "    a=[];\n",
    "    while node is not None:\n",
    "        if node.data in a:\n",
    "            return node;\n",
    "        else:\n",
    "            a.append(node.data);\n",
    "            node = node.nextNode;\n",
    "\n",
    "            \n",
    "        "
   ]
  },
  {
   "cell_type": "code",
   "execution_count": 5,
   "metadata": {},
   "outputs": [
    {
     "name": "stdout",
     "output_type": "stream",
     "text": [
      "1\n"
     ]
    }
   ],
   "source": [
    "print(5%2)"
   ]
  },
  {
   "cell_type": "code",
   "execution_count": 4,
   "metadata": {},
   "outputs": [
    {
     "name": "stdout",
     "output_type": "stream",
     "text": [
      "2\n"
     ]
    }
   ],
   "source": [
    "print(5//2)"
   ]
  },
  {
   "cell_type": "code",
   "execution_count": null,
   "metadata": {
    "collapsed": true
   },
   "outputs": [],
   "source": []
  }
 ],
 "metadata": {
  "kernelspec": {
   "display_name": "Python 3",
   "language": "python",
   "name": "python3"
  },
  "language_info": {
   "codemirror_mode": {
    "name": "ipython",
    "version": 3
   },
   "file_extension": ".py",
   "mimetype": "text/x-python",
   "name": "python",
   "nbconvert_exporter": "python",
   "pygments_lexer": "ipython3",
   "version": "3.6.2"
  }
 },
 "nbformat": 4,
 "nbformat_minor": 2
}
