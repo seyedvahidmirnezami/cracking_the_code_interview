{
 "cells": [
  {
   "cell_type": "code",
   "execution_count": 1,
   "metadata": {},
   "outputs": [
    {
     "ename": "SyntaxError",
     "evalue": "invalid syntax (<ipython-input-1-7f75b637b56d>, line 30)",
     "output_type": "error",
     "traceback": [
      "\u001b[0;36m  File \u001b[0;32m\"<ipython-input-1-7f75b637b56d>\"\u001b[0;36m, line \u001b[0;32m30\u001b[0m\n\u001b[0;31m    print str(int_array_to_binary_search_tree(intarray1))\u001b[0m\n\u001b[0m            ^\u001b[0m\n\u001b[0;31mSyntaxError\u001b[0m\u001b[0;31m:\u001b[0m invalid syntax\n"
     ]
    }
   ],
   "source": [
    "#binary tree python\n",
    "class BinaryTree:\n",
    "    def __init__(self, content, left = None, right = None):\n",
    "        self.content = content\n",
    "        self.left = left\n",
    "        self.right = right\n",
    "\n",
    "    def __str__(self):\n",
    "        return \"( \" + str(self.content) + \" ( \" + str(self.left) + \" | \" + str(self.right) + \"))\" \n",
    "\n",
    "#Given a sorted (increasing order) array with unique integer elements, write an\n",
    "#algorithm to create a binary search tree with minimal height.\n",
    "\n",
    "\n",
    "def int_array_to_binary_search_tree(intarray):\n",
    "    #use the middle of the array to divide it. this ensures minimal height.\n",
    "    if len(intarray) == 0:\n",
    "        return None\n",
    "    if len(intarray) == 1:\n",
    "        return BinaryTree(intarray[0])\n",
    "    cut = len(intarray) / 2\n",
    "    return BinaryTree( intarray[cut], \\\n",
    "        int_array_to_binary_search_tree(intarray[0:cut]), \n",
    "        int_array_to_binary_search_tree(intarray[cut+1:]))\n",
    "\n",
    "#testing\n",
    "\n",
    "intarray1=[1,2,3,4,5,6,7,8,9,10,12,15,18,22,43,144,515]\n",
    "intarray2=[1,2,3,4,5,6,7,8,9,10,12,15,18,22,43,144,515,4123]\n",
    "\n",
    "print str(int_array_to_binary_search_tree(intarray1))\n",
    "\n",
    "print str(int_array_to_binary_search_tree(intarray2))\n"
   ]
  },
  {
   "cell_type": "code",
   "execution_count": 2,
   "metadata": {
    "collapsed": true
   },
   "outputs": [],
   "source": [
    "def inorder(tree):\n",
    "  if tree != None:\n",
    "      inorder(tree.getLeftChild())\n",
    "      print(tree.getRootVal())\n",
    "      inorder(tree.getRightChild())"
   ]
  },
  {
   "cell_type": "code",
   "execution_count": 3,
   "metadata": {
    "collapsed": true
   },
   "outputs": [],
   "source": [
    "def postorder(tree):\n",
    "    if tree != None:\n",
    "        postorder(tree.getLeftChild())\n",
    "        postorder(tree.getRightChild())\n",
    "        print(tree.getRootVal())"
   ]
  },
  {
   "cell_type": "code",
   "execution_count": 4,
   "metadata": {
    "collapsed": true
   },
   "outputs": [],
   "source": [
    "def preorder(tree):\n",
    "    if tree:\n",
    "        print(tree.getRootVal())\n",
    "        preorder(tree.getLeftChild())\n",
    "        preorder(tree.getRightChild())"
   ]
  },
  {
   "cell_type": "code",
   "execution_count": null,
   "metadata": {
    "collapsed": true
   },
   "outputs": [],
   "source": [
    "def is_balanced_binary_tree(btree):\n",
    "    #compare depths of both sides\n",
    "    if btree is None: return True\n",
    "    return (abs(depth(btree.left) - depth(btree.right)) <= 1) and \\\n",
    "        is_balanced_binary_tree(btree.left) and is_balanced_binary_tree(btree.right)\n",
    "\n",
    "def depth(btree):\n",
    "    if btree is None:\n",
    "        return 0\n",
    "    else:\n",
    "        if btree.depth != -1:\n",
    "            #caching depth\n",
    "            #note that our cache of depth is not being updated using this\n",
    "            #method, we would want to add a depth update mechanism whenever\n",
    "            #a node is added/removed if we wanted to cache depth in this way.\n",
    "            #if we didnt want to store this in the tree, we could cache it in a hash table (dict)\n",
    "            return btree.depth\n",
    "        else:\n",
    "            btree.depth = 1 + max(depth(btree.left), depth(btree.right))\n",
    "            return btree.depth"
   ]
  },
  {
   "cell_type": "code",
   "execution_count": null,
   "metadata": {
    "collapsed": true
   },
   "outputs": [],
   "source": [
    "# Python program to check binary tree is a subtree of \n",
    "# another tree\n",
    " \n",
    "# A binary tree node\n",
    "class Node:\n",
    " \n",
    "    # Constructor to create a new node\n",
    "    def __init__(self, data):\n",
    "        self.data = data \n",
    "        self.left = None\n",
    "        self.right = None\n",
    " \n",
    "# A utility function to check whether trees with roots\n",
    "# as root 1 and root2 are indetical or not\n",
    "def areIdentical(root1, root2):\n",
    "     \n",
    "    # Base Case\n",
    "    if root1 is None and root2 is None:\n",
    "        return True\n",
    "    if root1 is None or root2 is None:\n",
    "        return False\n",
    " \n",
    "    # Check fi the data of both roots is same and data of\n",
    "    # left and right subtrees are also same\n",
    "    return (root1.data == root2.data and\n",
    "            areIdentical(root1.left , root2.left)and\n",
    "            areIdentical(root1.right, root2.right)\n",
    "            ) \n",
    " \n",
    "# This function returns True if S is a subtree of T,\n",
    "# otherwise False\n",
    "def isSubtree(T, S):\n",
    "     \n",
    "    # Base Case\n",
    "    if S is None:\n",
    "        return True\n",
    " \n",
    "    if T is None:\n",
    "        return True\n",
    " \n",
    "    # Check the tree with root as current node\n",
    "    if (areIdentical(T, S)):\n",
    "        return True\n",
    " \n",
    "    # IF the tree with root as current node doesn't match\n",
    "    # then try left and right subtreee one by one\n",
    "    return isSubtree(T.left, S) or isSubtree(T.right, S)"
   ]
  }
 ],
 "metadata": {
  "kernelspec": {
   "display_name": "Python 3",
   "language": "python",
   "name": "python3"
  },
  "language_info": {
   "codemirror_mode": {
    "name": "ipython",
    "version": 3
   },
   "file_extension": ".py",
   "mimetype": "text/x-python",
   "name": "python",
   "nbconvert_exporter": "python",
   "pygments_lexer": "ipython3",
   "version": "3.6.2"
  }
 },
 "nbformat": 4,
 "nbformat_minor": 2
}
