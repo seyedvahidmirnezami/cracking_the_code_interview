{
 "cells": [
  {
   "cell_type": "code",
   "execution_count": 145,
   "metadata": {
    "collapsed": true
   },
   "outputs": [],
   "source": [
    "class Node(object):\n",
    "    def __init__(self,data):\n",
    "        self.data=data;\n",
    "        self.leftChild=None;\n",
    "        self.rightChild=None;\n",
    "        \n",
    "class binarySearchTree(object):\n",
    "    def __init__(self):\n",
    "        self.root=None;\n",
    "    def insert(self,data):\n",
    "        if not (self.root):\n",
    "            self.root=Node(data);\n",
    "        else:\n",
    "            self.insertNode(data,self.root);\n",
    "            \n",
    "    def insertNode(self,data,node):\n",
    "        if data<node.data:\n",
    "            if node.leftChild:\n",
    "                self.insertNode(data,node.leftChild);\n",
    "            else:\n",
    "                node.leftChild = Node(data);\n",
    "    \n",
    "        else:\n",
    "            if node.rightChild:\n",
    "                self.insertNode(data,node.rightChild);\n",
    "            else:\n",
    "                node.rightChild = Node(data);\n",
    "\n",
    "    def getMinValue(self):\n",
    "        if self.root:\n",
    "            return self.getMin(self.root);\n",
    "    def getMin(self,node):\n",
    "        if node.leftChild:\n",
    "            return self.getMin(node.leftChild);\n",
    "        return node.data;\n",
    "    def getMaxValue(self):\n",
    "        if self.root:\n",
    "            return self.getMax(self.root);\n",
    "    def getMax(self,node):\n",
    "\n",
    "        if node.rightChild:\n",
    "            return self.getMax(node.rightChild);\n",
    "        return node.data;\n",
    "    def traverse (self):\n",
    "        if self.root:\n",
    "            self.traverseInOrder(self.root);\n",
    "    def traverseInOrder(self,node):\n",
    "        \n",
    "        if node.leftChild:\n",
    "            self.traverseInOrder(node.leftChild);\n",
    "            \n",
    "        print(\"%s\" % node.data)\n",
    "\n",
    "        if node.rightChild:\n",
    "            self.traverseInOrder(node.rightChild);\n",
    "            \n",
    "    def remove(self,data):\n",
    "        if self.root:\n",
    "            self.root=self.removeNode(data,self.root);\n",
    "    def removeNode(self,data,node):\n",
    "        if not node:\n",
    "            return node;\n",
    "        if data<node.data:\n",
    "            node.leftChild=self.removeNode(data,node.leftChild);\n",
    "        elif data>node.data:\n",
    "            node.rightChild=self.removeNode(data,node.rightChild);\n",
    "            \n",
    "        else:\n",
    "            if not node.leftChild and not node.rightChild:\n",
    "                print(\"removing a leaf node ...\");\n",
    "                del node;\n",
    "                return None;\n",
    "            if not node.leftChild:\n",
    "                print(\"removing a node with single right child\");\n",
    "                tempNode= node.rightChild;\n",
    "                del node;\n",
    "                return tempNode;\n",
    "            elif not node.rightChild:\n",
    "                print(\"removing a node with single left child\");\n",
    "                tempNode = node.leftChild;\n",
    "                del node;\n",
    "                return tempNode;\n",
    "            print(\"removing node with two children\");\n",
    "            tempNode = self.getPredecessor(node.leftChild)\n",
    "            node.data = tempNode.data;\n",
    "            node.leftChild = self.removeNode(tempNode.data,noed.leftChild);\n",
    "        return node;\n",
    "    \n",
    "    def getPredeccor(self,node):# greatest item in the left subtree\n",
    "        if node.rightChild:\n",
    "            \n",
    "            return self.getPredecessor(node.rightChild);\n",
    "        return node;\n",
    "        "
   ]
  },
  {
   "cell_type": "code",
   "execution_count": 151,
   "metadata": {},
   "outputs": [
    {
     "name": "stdout",
     "output_type": "stream",
     "text": [
      "1\n"
     ]
    }
   ],
   "source": [
    "   print(\"%s\" % 1)"
   ]
  },
  {
   "cell_type": "code",
   "execution_count": 152,
   "metadata": {
    "collapsed": true
   },
   "outputs": [],
   "source": [
    "bst=binarySearchTree();"
   ]
  },
  {
   "cell_type": "code",
   "execution_count": 153,
   "metadata": {},
   "outputs": [
    {
     "name": "stdout",
     "output_type": "stream",
     "text": [
      "5\n",
      "10\n",
      "13\n",
      "14\n",
      "None\n",
      "removing node with two children\n"
     ]
    },
    {
     "ename": "AttributeError",
     "evalue": "'binarySearchTree' object has no attribute 'getPredecessor'",
     "output_type": "error",
     "traceback": [
      "\u001b[0;31m---------------------------------------------------------------------------\u001b[0m",
      "\u001b[0;31mAttributeError\u001b[0m                            Traceback (most recent call last)",
      "\u001b[0;32m<ipython-input-153-7f52e44e0ad4>\u001b[0m in \u001b[0;36m<module>\u001b[0;34m()\u001b[0m\n\u001b[1;32m      4\u001b[0m \u001b[0mbst\u001b[0m\u001b[0;34m.\u001b[0m\u001b[0minsert\u001b[0m\u001b[0;34m(\u001b[0m\u001b[0;36m14\u001b[0m\u001b[0;34m)\u001b[0m\u001b[0;34m;\u001b[0m\u001b[0;34m\u001b[0m\u001b[0m\n\u001b[1;32m      5\u001b[0m \u001b[0mprint\u001b[0m\u001b[0;34m(\u001b[0m\u001b[0mbst\u001b[0m\u001b[0;34m.\u001b[0m\u001b[0mtraverse\u001b[0m\u001b[0;34m(\u001b[0m\u001b[0;34m)\u001b[0m\u001b[0;34m)\u001b[0m\u001b[0;34m\u001b[0m\u001b[0m\n\u001b[0;32m----> 6\u001b[0;31m \u001b[0mbst\u001b[0m\u001b[0;34m.\u001b[0m\u001b[0mremove\u001b[0m\u001b[0;34m(\u001b[0m\u001b[0;36m10\u001b[0m\u001b[0;34m)\u001b[0m\u001b[0;34m;\u001b[0m\u001b[0;34m\u001b[0m\u001b[0m\n\u001b[0m\u001b[1;32m      7\u001b[0m \u001b[0mprint\u001b[0m\u001b[0;34m(\u001b[0m\u001b[0mbst\u001b[0m\u001b[0;34m.\u001b[0m\u001b[0mtraverse\u001b[0m\u001b[0;34m(\u001b[0m\u001b[0;34m)\u001b[0m\u001b[0;34m)\u001b[0m\u001b[0;34m\u001b[0m\u001b[0m\n\u001b[1;32m      8\u001b[0m \u001b[0;31m#print(bst.getMinValue())\u001b[0m\u001b[0;34m\u001b[0m\u001b[0;34m\u001b[0m\u001b[0m\n",
      "\u001b[0;32m<ipython-input-145-132219ff51be>\u001b[0m in \u001b[0;36mremove\u001b[0;34m(self, data)\u001b[0m\n\u001b[1;32m     57\u001b[0m     \u001b[0;32mdef\u001b[0m \u001b[0mremove\u001b[0m\u001b[0;34m(\u001b[0m\u001b[0mself\u001b[0m\u001b[0;34m,\u001b[0m\u001b[0mdata\u001b[0m\u001b[0;34m)\u001b[0m\u001b[0;34m:\u001b[0m\u001b[0;34m\u001b[0m\u001b[0m\n\u001b[1;32m     58\u001b[0m         \u001b[0;32mif\u001b[0m \u001b[0mself\u001b[0m\u001b[0;34m.\u001b[0m\u001b[0mroot\u001b[0m\u001b[0;34m:\u001b[0m\u001b[0;34m\u001b[0m\u001b[0m\n\u001b[0;32m---> 59\u001b[0;31m             \u001b[0mself\u001b[0m\u001b[0;34m.\u001b[0m\u001b[0mroot\u001b[0m\u001b[0;34m=\u001b[0m\u001b[0mself\u001b[0m\u001b[0;34m.\u001b[0m\u001b[0mremoveNode\u001b[0m\u001b[0;34m(\u001b[0m\u001b[0mdata\u001b[0m\u001b[0;34m,\u001b[0m\u001b[0mself\u001b[0m\u001b[0;34m.\u001b[0m\u001b[0mroot\u001b[0m\u001b[0;34m)\u001b[0m\u001b[0;34m;\u001b[0m\u001b[0;34m\u001b[0m\u001b[0m\n\u001b[0m\u001b[1;32m     60\u001b[0m     \u001b[0;32mdef\u001b[0m \u001b[0mremoveNode\u001b[0m\u001b[0;34m(\u001b[0m\u001b[0mself\u001b[0m\u001b[0;34m,\u001b[0m\u001b[0mdata\u001b[0m\u001b[0;34m,\u001b[0m\u001b[0mnode\u001b[0m\u001b[0;34m)\u001b[0m\u001b[0;34m:\u001b[0m\u001b[0;34m\u001b[0m\u001b[0m\n\u001b[1;32m     61\u001b[0m         \u001b[0;32mif\u001b[0m \u001b[0;32mnot\u001b[0m \u001b[0mnode\u001b[0m\u001b[0;34m:\u001b[0m\u001b[0;34m\u001b[0m\u001b[0m\n",
      "\u001b[0;32m<ipython-input-145-132219ff51be>\u001b[0m in \u001b[0;36mremoveNode\u001b[0;34m(self, data, node)\u001b[0m\n\u001b[1;32m     82\u001b[0m                 \u001b[0;32mreturn\u001b[0m \u001b[0mtempNode\u001b[0m\u001b[0;34m;\u001b[0m\u001b[0;34m\u001b[0m\u001b[0m\n\u001b[1;32m     83\u001b[0m             \u001b[0mprint\u001b[0m\u001b[0;34m(\u001b[0m\u001b[0;34m\"removing node with two children\"\u001b[0m\u001b[0;34m)\u001b[0m\u001b[0;34m;\u001b[0m\u001b[0;34m\u001b[0m\u001b[0m\n\u001b[0;32m---> 84\u001b[0;31m             \u001b[0mtempNode\u001b[0m \u001b[0;34m=\u001b[0m \u001b[0mself\u001b[0m\u001b[0;34m.\u001b[0m\u001b[0mgetPredecessor\u001b[0m\u001b[0;34m(\u001b[0m\u001b[0mnode\u001b[0m\u001b[0;34m.\u001b[0m\u001b[0mleftChild\u001b[0m\u001b[0;34m)\u001b[0m\u001b[0;34m\u001b[0m\u001b[0m\n\u001b[0m\u001b[1;32m     85\u001b[0m             \u001b[0mnode\u001b[0m\u001b[0;34m.\u001b[0m\u001b[0mdata\u001b[0m \u001b[0;34m=\u001b[0m \u001b[0mtempNode\u001b[0m\u001b[0;34m.\u001b[0m\u001b[0mdata\u001b[0m\u001b[0;34m;\u001b[0m\u001b[0;34m\u001b[0m\u001b[0m\n\u001b[1;32m     86\u001b[0m             \u001b[0mnode\u001b[0m\u001b[0;34m.\u001b[0m\u001b[0mleftChild\u001b[0m \u001b[0;34m=\u001b[0m \u001b[0mself\u001b[0m\u001b[0;34m.\u001b[0m\u001b[0mremoveNode\u001b[0m\u001b[0;34m(\u001b[0m\u001b[0mtempNode\u001b[0m\u001b[0;34m.\u001b[0m\u001b[0mdata\u001b[0m\u001b[0;34m,\u001b[0m\u001b[0mnoed\u001b[0m\u001b[0;34m.\u001b[0m\u001b[0mleftChild\u001b[0m\u001b[0;34m)\u001b[0m\u001b[0;34m;\u001b[0m\u001b[0;34m\u001b[0m\u001b[0m\n",
      "\u001b[0;31mAttributeError\u001b[0m: 'binarySearchTree' object has no attribute 'getPredecessor'"
     ]
    }
   ],
   "source": [
    "bst.insert(10);\n",
    "bst.insert(13);\n",
    "bst.insert(5);\n",
    "bst.insert(14);\n",
    "print(bst.traverse())\n",
    "bst.remove(10);\n",
    "print(bst.traverse())\n",
    "#print(bst.getMinValue())\n",
    "#print(bst.getMaxValue())\n",
    "\n",
    "\n"
   ]
  },
  {
   "cell_type": "code",
   "execution_count": null,
   "metadata": {
    "collapsed": true
   },
   "outputs": [],
   "source": []
  },
  {
   "cell_type": "code",
   "execution_count": null,
   "metadata": {
    "collapsed": true
   },
   "outputs": [],
   "source": []
  }
 ],
 "metadata": {
  "kernelspec": {
   "display_name": "Python 3",
   "language": "python",
   "name": "python3"
  },
  "language_info": {
   "codemirror_mode": {
    "name": "ipython",
    "version": 3
   },
   "file_extension": ".py",
   "mimetype": "text/x-python",
   "name": "python",
   "nbconvert_exporter": "python",
   "pygments_lexer": "ipython3",
   "version": "3.6.2"
  }
 },
 "nbformat": 4,
 "nbformat_minor": 2
}
